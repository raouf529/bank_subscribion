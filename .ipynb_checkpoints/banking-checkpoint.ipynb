{
 "cells": [
  {
   "cell_type": "code",
   "execution_count": 1,
   "id": "a43c4e67-f4d3-4536-b0ae-b3e73609af6f",
   "metadata": {
    "executionInfo": {
     "elapsed": 43,
     "status": "ok",
     "timestamp": 1756240840093,
     "user": {
      "displayName": "raouf lounis",
      "userId": "11354439901126171963"
     },
     "user_tz": -120
    },
    "id": "a43c4e67-f4d3-4536-b0ae-b3e73609af6f"
   },
   "outputs": [],
   "source": [
    "import pandas as pd\n",
    "import numpy as np\n",
    "import matplotlib.pyplot as plt\n",
    "import seaborn as sns\n",
    "from sklearn.pipeline import Pipeline\n",
    "from sklearn.compose import ColumnTransformer\n",
    "from sklearn.model_selection import train_test_split\n",
    "from sklearn.preprocessing import OneHotEncoder, StandardScaler, FunctionTransformer\n",
    "from sklearn.impute import SimpleImputer\n",
    "from sklearn.linear_model import LogisticRegression, SGDClassifier\n",
    "from sklearn.model_selection import cross_validate, cross_val_predict\n",
    "from sklearn.metrics import precision_recall_curve\n",
    "from sklearn.ensemble import RandomForestClassifier\n",
    "from sklearn.base import BaseEstimator, TransformerMixin\n",
    "from sklearn.tree import DecisionTreeClassifier\n",
    "from sklearn.model_selection import GridSearchCV, RandomizedSearchCV\n",
    "from sklearn.metrics import accuracy_score, precision_score, recall_score, f1_score, roc_auc_score, roc_curve\n",
    "from sklearn.svm import SVC\n",
    "from xgboost import XGBClassifier\n",
    "import joblib\n",
    "import json\n",
    "import os"
   ]
  },
  {
   "cell_type": "markdown",
   "id": "72c7c401-ffc8-4634-bb4c-eaf6cdd3d0b6",
   "metadata": {},
   "source": [
    "# load and explore data: discover and handling missing data and outliers"
   ]
  },
  {
   "cell_type": "code",
   "execution_count": 2,
   "id": "3260baf0-fb9b-422e-a864-380eac4be2c4",
   "metadata": {
    "colab": {
     "base_uri": "https://localhost:8080/"
    },
    "executionInfo": {
     "elapsed": 4190,
     "status": "ok",
     "timestamp": 1756240344684,
     "user": {
      "displayName": "raouf lounis",
      "userId": "11354439901126171963"
     },
     "user_tz": -120
    },
    "id": "3260baf0-fb9b-422e-a864-380eac4be2c4",
    "outputId": "9a7aea82-bf10-42e2-f28b-364bde7dde61"
   },
   "outputs": [
    {
     "data": {
      "text/plain": [
       "(750000, 18)"
      ]
     },
     "execution_count": 2,
     "metadata": {},
     "output_type": "execute_result"
    }
   ],
   "source": [
    "df = pd.read_csv('playground-series-s5e8/train.csv')\n",
    "df.shape"
   ]
  },
  {
   "cell_type": "code",
   "execution_count": 3,
   "id": "69338e90-f6ef-4a53-83ba-b2f48d09ff33",
   "metadata": {
    "colab": {
     "base_uri": "https://localhost:8080/",
     "height": 261
    },
    "executionInfo": {
     "elapsed": 96,
     "status": "ok",
     "timestamp": 1756240347302,
     "user": {
      "displayName": "raouf lounis",
      "userId": "11354439901126171963"
     },
     "user_tz": -120
    },
    "id": "69338e90-f6ef-4a53-83ba-b2f48d09ff33",
    "outputId": "dbec624e-5e7f-466c-9255-e4e6bf963b8b"
   },
   "outputs": [
    {
     "data": {
      "text/html": [
       "<div>\n",
       "<style scoped>\n",
       "    .dataframe tbody tr th:only-of-type {\n",
       "        vertical-align: middle;\n",
       "    }\n",
       "\n",
       "    .dataframe tbody tr th {\n",
       "        vertical-align: top;\n",
       "    }\n",
       "\n",
       "    .dataframe thead th {\n",
       "        text-align: right;\n",
       "    }\n",
       "</style>\n",
       "<table border=\"1\" class=\"dataframe\">\n",
       "  <thead>\n",
       "    <tr style=\"text-align: right;\">\n",
       "      <th></th>\n",
       "      <th>id</th>\n",
       "      <th>age</th>\n",
       "      <th>job</th>\n",
       "      <th>marital</th>\n",
       "      <th>education</th>\n",
       "      <th>default</th>\n",
       "      <th>balance</th>\n",
       "      <th>housing</th>\n",
       "      <th>loan</th>\n",
       "      <th>contact</th>\n",
       "      <th>day</th>\n",
       "      <th>month</th>\n",
       "      <th>duration</th>\n",
       "      <th>campaign</th>\n",
       "      <th>pdays</th>\n",
       "      <th>previous</th>\n",
       "      <th>poutcome</th>\n",
       "      <th>y</th>\n",
       "    </tr>\n",
       "  </thead>\n",
       "  <tbody>\n",
       "    <tr>\n",
       "      <th>0</th>\n",
       "      <td>0</td>\n",
       "      <td>42</td>\n",
       "      <td>technician</td>\n",
       "      <td>married</td>\n",
       "      <td>secondary</td>\n",
       "      <td>no</td>\n",
       "      <td>7</td>\n",
       "      <td>no</td>\n",
       "      <td>no</td>\n",
       "      <td>cellular</td>\n",
       "      <td>25</td>\n",
       "      <td>aug</td>\n",
       "      <td>117</td>\n",
       "      <td>3</td>\n",
       "      <td>-1</td>\n",
       "      <td>0</td>\n",
       "      <td>unknown</td>\n",
       "      <td>0</td>\n",
       "    </tr>\n",
       "    <tr>\n",
       "      <th>1</th>\n",
       "      <td>1</td>\n",
       "      <td>38</td>\n",
       "      <td>blue-collar</td>\n",
       "      <td>married</td>\n",
       "      <td>secondary</td>\n",
       "      <td>no</td>\n",
       "      <td>514</td>\n",
       "      <td>no</td>\n",
       "      <td>no</td>\n",
       "      <td>unknown</td>\n",
       "      <td>18</td>\n",
       "      <td>jun</td>\n",
       "      <td>185</td>\n",
       "      <td>1</td>\n",
       "      <td>-1</td>\n",
       "      <td>0</td>\n",
       "      <td>unknown</td>\n",
       "      <td>0</td>\n",
       "    </tr>\n",
       "    <tr>\n",
       "      <th>2</th>\n",
       "      <td>2</td>\n",
       "      <td>36</td>\n",
       "      <td>blue-collar</td>\n",
       "      <td>married</td>\n",
       "      <td>secondary</td>\n",
       "      <td>no</td>\n",
       "      <td>602</td>\n",
       "      <td>yes</td>\n",
       "      <td>no</td>\n",
       "      <td>unknown</td>\n",
       "      <td>14</td>\n",
       "      <td>may</td>\n",
       "      <td>111</td>\n",
       "      <td>2</td>\n",
       "      <td>-1</td>\n",
       "      <td>0</td>\n",
       "      <td>unknown</td>\n",
       "      <td>0</td>\n",
       "    </tr>\n",
       "    <tr>\n",
       "      <th>3</th>\n",
       "      <td>3</td>\n",
       "      <td>27</td>\n",
       "      <td>student</td>\n",
       "      <td>single</td>\n",
       "      <td>secondary</td>\n",
       "      <td>no</td>\n",
       "      <td>34</td>\n",
       "      <td>yes</td>\n",
       "      <td>no</td>\n",
       "      <td>unknown</td>\n",
       "      <td>28</td>\n",
       "      <td>may</td>\n",
       "      <td>10</td>\n",
       "      <td>2</td>\n",
       "      <td>-1</td>\n",
       "      <td>0</td>\n",
       "      <td>unknown</td>\n",
       "      <td>0</td>\n",
       "    </tr>\n",
       "    <tr>\n",
       "      <th>4</th>\n",
       "      <td>4</td>\n",
       "      <td>26</td>\n",
       "      <td>technician</td>\n",
       "      <td>married</td>\n",
       "      <td>secondary</td>\n",
       "      <td>no</td>\n",
       "      <td>889</td>\n",
       "      <td>yes</td>\n",
       "      <td>no</td>\n",
       "      <td>cellular</td>\n",
       "      <td>3</td>\n",
       "      <td>feb</td>\n",
       "      <td>902</td>\n",
       "      <td>1</td>\n",
       "      <td>-1</td>\n",
       "      <td>0</td>\n",
       "      <td>unknown</td>\n",
       "      <td>1</td>\n",
       "    </tr>\n",
       "  </tbody>\n",
       "</table>\n",
       "</div>"
      ],
      "text/plain": [
       "   id  age          job  marital  education default  balance housing loan  \\\n",
       "0   0   42   technician  married  secondary      no        7      no   no   \n",
       "1   1   38  blue-collar  married  secondary      no      514      no   no   \n",
       "2   2   36  blue-collar  married  secondary      no      602     yes   no   \n",
       "3   3   27      student   single  secondary      no       34     yes   no   \n",
       "4   4   26   technician  married  secondary      no      889     yes   no   \n",
       "\n",
       "    contact  day month  duration  campaign  pdays  previous poutcome  y  \n",
       "0  cellular   25   aug       117         3     -1         0  unknown  0  \n",
       "1   unknown   18   jun       185         1     -1         0  unknown  0  \n",
       "2   unknown   14   may       111         2     -1         0  unknown  0  \n",
       "3   unknown   28   may        10         2     -1         0  unknown  0  \n",
       "4  cellular    3   feb       902         1     -1         0  unknown  1  "
      ]
     },
     "execution_count": 3,
     "metadata": {},
     "output_type": "execute_result"
    }
   ],
   "source": [
    "df.head()"
   ]
  },
  {
   "cell_type": "code",
   "execution_count": 4,
   "id": "b18cdcc9-5ce7-42c7-b73f-83aaaed2ab9c",
   "metadata": {
    "colab": {
     "base_uri": "https://localhost:8080/"
    },
    "executionInfo": {
     "elapsed": 189,
     "status": "ok",
     "timestamp": 1756240348740,
     "user": {
      "displayName": "raouf lounis",
      "userId": "11354439901126171963"
     },
     "user_tz": -120
    },
    "id": "b18cdcc9-5ce7-42c7-b73f-83aaaed2ab9c",
    "outputId": "2eae66b9-68d4-44e6-9920-8510226f3970"
   },
   "outputs": [
    {
     "name": "stdout",
     "output_type": "stream",
     "text": [
      "<class 'pandas.core.frame.DataFrame'>\n",
      "RangeIndex: 750000 entries, 0 to 749999\n",
      "Data columns (total 18 columns):\n",
      " #   Column     Non-Null Count   Dtype \n",
      "---  ------     --------------   ----- \n",
      " 0   id         750000 non-null  int64 \n",
      " 1   age        750000 non-null  int64 \n",
      " 2   job        750000 non-null  object\n",
      " 3   marital    750000 non-null  object\n",
      " 4   education  750000 non-null  object\n",
      " 5   default    750000 non-null  object\n",
      " 6   balance    750000 non-null  int64 \n",
      " 7   housing    750000 non-null  object\n",
      " 8   loan       750000 non-null  object\n",
      " 9   contact    750000 non-null  object\n",
      " 10  day        750000 non-null  int64 \n",
      " 11  month      750000 non-null  object\n",
      " 12  duration   750000 non-null  int64 \n",
      " 13  campaign   750000 non-null  int64 \n",
      " 14  pdays      750000 non-null  int64 \n",
      " 15  previous   750000 non-null  int64 \n",
      " 16  poutcome   750000 non-null  object\n",
      " 17  y          750000 non-null  int64 \n",
      "dtypes: int64(9), object(9)\n",
      "memory usage: 103.0+ MB\n"
     ]
    }
   ],
   "source": [
    "df.info()"
   ]
  },
  {
   "cell_type": "code",
   "execution_count": 5,
   "id": "38392ebc-e4f2-441b-9b0b-0253c93070d9",
   "metadata": {
    "colab": {
     "base_uri": "https://localhost:8080/",
     "height": 320
    },
    "executionInfo": {
     "elapsed": 217,
     "status": "ok",
     "timestamp": 1756240350069,
     "user": {
      "displayName": "raouf lounis",
      "userId": "11354439901126171963"
     },
     "user_tz": -120
    },
    "id": "38392ebc-e4f2-441b-9b0b-0253c93070d9",
    "outputId": "a079d692-9867-4dd1-e414-ba43a5f1a066"
   },
   "outputs": [
    {
     "data": {
      "text/html": [
       "<div>\n",
       "<style scoped>\n",
       "    .dataframe tbody tr th:only-of-type {\n",
       "        vertical-align: middle;\n",
       "    }\n",
       "\n",
       "    .dataframe tbody tr th {\n",
       "        vertical-align: top;\n",
       "    }\n",
       "\n",
       "    .dataframe thead th {\n",
       "        text-align: right;\n",
       "    }\n",
       "</style>\n",
       "<table border=\"1\" class=\"dataframe\">\n",
       "  <thead>\n",
       "    <tr style=\"text-align: right;\">\n",
       "      <th></th>\n",
       "      <th>id</th>\n",
       "      <th>age</th>\n",
       "      <th>balance</th>\n",
       "      <th>day</th>\n",
       "      <th>duration</th>\n",
       "      <th>campaign</th>\n",
       "      <th>pdays</th>\n",
       "      <th>previous</th>\n",
       "      <th>y</th>\n",
       "    </tr>\n",
       "  </thead>\n",
       "  <tbody>\n",
       "    <tr>\n",
       "      <th>count</th>\n",
       "      <td>750000.000000</td>\n",
       "      <td>750000.000000</td>\n",
       "      <td>750000.000000</td>\n",
       "      <td>750000.000000</td>\n",
       "      <td>750000.000000</td>\n",
       "      <td>750000.000000</td>\n",
       "      <td>750000.000000</td>\n",
       "      <td>750000.000000</td>\n",
       "      <td>750000.000000</td>\n",
       "    </tr>\n",
       "    <tr>\n",
       "      <th>mean</th>\n",
       "      <td>374999.500000</td>\n",
       "      <td>40.926395</td>\n",
       "      <td>1204.067397</td>\n",
       "      <td>16.117209</td>\n",
       "      <td>256.229144</td>\n",
       "      <td>2.577008</td>\n",
       "      <td>22.412733</td>\n",
       "      <td>0.298545</td>\n",
       "      <td>0.120651</td>\n",
       "    </tr>\n",
       "    <tr>\n",
       "      <th>std</th>\n",
       "      <td>216506.495284</td>\n",
       "      <td>10.098829</td>\n",
       "      <td>2836.096759</td>\n",
       "      <td>8.250832</td>\n",
       "      <td>272.555662</td>\n",
       "      <td>2.718514</td>\n",
       "      <td>77.319998</td>\n",
       "      <td>1.335926</td>\n",
       "      <td>0.325721</td>\n",
       "    </tr>\n",
       "    <tr>\n",
       "      <th>min</th>\n",
       "      <td>0.000000</td>\n",
       "      <td>18.000000</td>\n",
       "      <td>-8019.000000</td>\n",
       "      <td>1.000000</td>\n",
       "      <td>1.000000</td>\n",
       "      <td>1.000000</td>\n",
       "      <td>-1.000000</td>\n",
       "      <td>0.000000</td>\n",
       "      <td>0.000000</td>\n",
       "    </tr>\n",
       "    <tr>\n",
       "      <th>25%</th>\n",
       "      <td>187499.750000</td>\n",
       "      <td>33.000000</td>\n",
       "      <td>0.000000</td>\n",
       "      <td>9.000000</td>\n",
       "      <td>91.000000</td>\n",
       "      <td>1.000000</td>\n",
       "      <td>-1.000000</td>\n",
       "      <td>0.000000</td>\n",
       "      <td>0.000000</td>\n",
       "    </tr>\n",
       "    <tr>\n",
       "      <th>50%</th>\n",
       "      <td>374999.500000</td>\n",
       "      <td>39.000000</td>\n",
       "      <td>634.000000</td>\n",
       "      <td>17.000000</td>\n",
       "      <td>133.000000</td>\n",
       "      <td>2.000000</td>\n",
       "      <td>-1.000000</td>\n",
       "      <td>0.000000</td>\n",
       "      <td>0.000000</td>\n",
       "    </tr>\n",
       "    <tr>\n",
       "      <th>75%</th>\n",
       "      <td>562499.250000</td>\n",
       "      <td>48.000000</td>\n",
       "      <td>1390.000000</td>\n",
       "      <td>21.000000</td>\n",
       "      <td>361.000000</td>\n",
       "      <td>3.000000</td>\n",
       "      <td>-1.000000</td>\n",
       "      <td>0.000000</td>\n",
       "      <td>0.000000</td>\n",
       "    </tr>\n",
       "    <tr>\n",
       "      <th>max</th>\n",
       "      <td>749999.000000</td>\n",
       "      <td>95.000000</td>\n",
       "      <td>99717.000000</td>\n",
       "      <td>31.000000</td>\n",
       "      <td>4918.000000</td>\n",
       "      <td>63.000000</td>\n",
       "      <td>871.000000</td>\n",
       "      <td>200.000000</td>\n",
       "      <td>1.000000</td>\n",
       "    </tr>\n",
       "  </tbody>\n",
       "</table>\n",
       "</div>"
      ],
      "text/plain": [
       "                  id            age        balance            day  \\\n",
       "count  750000.000000  750000.000000  750000.000000  750000.000000   \n",
       "mean   374999.500000      40.926395    1204.067397      16.117209   \n",
       "std    216506.495284      10.098829    2836.096759       8.250832   \n",
       "min         0.000000      18.000000   -8019.000000       1.000000   \n",
       "25%    187499.750000      33.000000       0.000000       9.000000   \n",
       "50%    374999.500000      39.000000     634.000000      17.000000   \n",
       "75%    562499.250000      48.000000    1390.000000      21.000000   \n",
       "max    749999.000000      95.000000   99717.000000      31.000000   \n",
       "\n",
       "            duration       campaign          pdays       previous  \\\n",
       "count  750000.000000  750000.000000  750000.000000  750000.000000   \n",
       "mean      256.229144       2.577008      22.412733       0.298545   \n",
       "std       272.555662       2.718514      77.319998       1.335926   \n",
       "min         1.000000       1.000000      -1.000000       0.000000   \n",
       "25%        91.000000       1.000000      -1.000000       0.000000   \n",
       "50%       133.000000       2.000000      -1.000000       0.000000   \n",
       "75%       361.000000       3.000000      -1.000000       0.000000   \n",
       "max      4918.000000      63.000000     871.000000     200.000000   \n",
       "\n",
       "                   y  \n",
       "count  750000.000000  \n",
       "mean        0.120651  \n",
       "std         0.325721  \n",
       "min         0.000000  \n",
       "25%         0.000000  \n",
       "50%         0.000000  \n",
       "75%         0.000000  \n",
       "max         1.000000  "
      ]
     },
     "execution_count": 5,
     "metadata": {},
     "output_type": "execute_result"
    }
   ],
   "source": [
    "df.describe()"
   ]
  },
  {
   "cell_type": "code",
   "execution_count": 6,
   "id": "a18a191d-4fbc-40e5-b740-6e18a9aff205",
   "metadata": {
    "colab": {
     "base_uri": "https://localhost:8080/"
    },
    "executionInfo": {
     "elapsed": 578,
     "status": "ok",
     "timestamp": 1756240352044,
     "user": {
      "displayName": "raouf lounis",
      "userId": "11354439901126171963"
     },
     "user_tz": -120
    },
    "id": "a18a191d-4fbc-40e5-b740-6e18a9aff205",
    "outputId": "884f8d8c-15cb-479b-8449-f56abaf5854a"
   },
   "outputs": [
    {
     "name": "stdout",
     "output_type": "stream",
     "text": [
      "id\n",
      "0         1\n",
      "499993    1\n",
      "499995    1\n",
      "499996    1\n",
      "499997    1\n",
      "         ..\n",
      "250001    1\n",
      "250002    1\n",
      "250003    1\n",
      "250004    1\n",
      "749999    1\n",
      "Name: count, Length: 750000, dtype: int64\n",
      "age\n",
      "32    37235\n",
      "33    34511\n",
      "31    34301\n",
      "34    34131\n",
      "35    33057\n",
      "      ...  \n",
      "90        6\n",
      "92        5\n",
      "94        4\n",
      "95        3\n",
      "91        1\n",
      "Name: count, Length: 78, dtype: int64\n",
      "job\n",
      "management       175541\n",
      "blue-collar      170498\n",
      "technician       138107\n",
      "admin.            81492\n",
      "services          64209\n",
      "retired           35185\n",
      "self-employed     19020\n",
      "entrepreneur      17718\n",
      "unemployed        17634\n",
      "housemaid         15912\n",
      "student           11767\n",
      "unknown            2917\n",
      "Name: count, dtype: int64\n",
      "marital\n",
      "married     480759\n",
      "single      194834\n",
      "divorced     74407\n",
      "Name: count, dtype: int64\n",
      "education\n",
      "secondary    401683\n",
      "tertiary     227508\n",
      "primary       99510\n",
      "unknown       21299\n",
      "Name: count, dtype: int64\n",
      "default\n",
      "no     737151\n",
      "yes     12849\n",
      "Name: count, dtype: int64\n",
      "balance\n",
      " 0        93159\n",
      " 5         4174\n",
      " 4         3741\n",
      "-1         3573\n",
      " 3         3429\n",
      "          ...  \n",
      " 8943         1\n",
      " 52496        1\n",
      " 10821        1\n",
      " 52357        1\n",
      " 8218         1\n",
      "Name: count, Length: 8217, dtype: int64\n",
      "housing\n",
      "yes    411288\n",
      "no     338712\n",
      "Name: count, dtype: int64\n",
      "loan\n",
      "no     645023\n",
      "yes    104977\n",
      "Name: count, dtype: int64\n",
      "contact\n",
      "cellular     486655\n",
      "unknown      231627\n",
      "telephone     31718\n",
      "Name: count, dtype: int64\n",
      "day\n",
      "20    51431\n",
      "18    41352\n",
      "21    36395\n",
      "28    33479\n",
      "17    33428\n",
      "14    32854\n",
      "8     30996\n",
      "6     30573\n",
      "5     30245\n",
      "19    29948\n",
      "29    29858\n",
      "7     28771\n",
      "15    27502\n",
      "30    26181\n",
      "12    25622\n",
      "11    25239\n",
      "9     24752\n",
      "13    24488\n",
      "4     22270\n",
      "16    20909\n",
      "2     20003\n",
      "27    19586\n",
      "26    16216\n",
      "3     15827\n",
      "22    15128\n",
      "23    14539\n",
      "25    13492\n",
      "31    11159\n",
      "10     7626\n",
      "24     6241\n",
      "1      3890\n",
      "Name: count, dtype: int64\n",
      "month\n",
      "may    228411\n",
      "aug    128859\n",
      "jul    110647\n",
      "jun     93670\n",
      "nov     66062\n",
      "apr     41319\n",
      "feb     37611\n",
      "jan     18937\n",
      "oct      9204\n",
      "sep      7409\n",
      "mar      5802\n",
      "dec      2069\n",
      "Name: count, dtype: int64\n",
      "duration\n",
      "124     8599\n",
      "114     7485\n",
      "121     7307\n",
      "112     7250\n",
      "111     6834\n",
      "        ... \n",
      "1172       1\n",
      "1312       1\n",
      "4854       1\n",
      "1586       1\n",
      "2040       1\n",
      "Name: count, Length: 1760, dtype: int64\n",
      "campaign\n",
      "1     304481\n",
      "2     209834\n",
      "3      88683\n",
      "4      60974\n",
      "5      25648\n",
      "6      19694\n",
      "7      10360\n",
      "8       7777\n",
      "9       3993\n",
      "10      3511\n",
      "11      2576\n",
      "12      2027\n",
      "13      1720\n",
      "14      1231\n",
      "15      1099\n",
      "16      1018\n",
      "17       902\n",
      "18       678\n",
      "19       556\n",
      "20       530\n",
      "21       414\n",
      "22       272\n",
      "25       262\n",
      "23       236\n",
      "24       226\n",
      "29       182\n",
      "28       176\n",
      "31       153\n",
      "26       134\n",
      "30       103\n",
      "27       100\n",
      "32        88\n",
      "33        64\n",
      "35        55\n",
      "34        48\n",
      "36        31\n",
      "37        30\n",
      "38        30\n",
      "41        19\n",
      "43        16\n",
      "40        13\n",
      "50        11\n",
      "44        10\n",
      "46         8\n",
      "39         8\n",
      "51         7\n",
      "45         4\n",
      "42         3\n",
      "48         2\n",
      "55         1\n",
      "63         1\n",
      "58         1\n",
      "Name: count, dtype: int64\n",
      "pdays\n",
      "-1      672434\n",
      " 182      2515\n",
      " 92       2275\n",
      " 183      2074\n",
      " 181      1698\n",
      "         ...  \n",
      " 759         1\n",
      " 529         1\n",
      " 794         1\n",
      " 617         1\n",
      " 376         1\n",
      "Name: count, Length: 596, dtype: int64\n",
      "previous\n",
      "0      672431\n",
      "1       28342\n",
      "2       20468\n",
      "3       10326\n",
      "4        6239\n",
      "5        3882\n",
      "6        2183\n",
      "7        1730\n",
      "8        1036\n",
      "9         697\n",
      "11        503\n",
      "10        501\n",
      "13        327\n",
      "12        320\n",
      "14        137\n",
      "15        130\n",
      "17        103\n",
      "16         81\n",
      "19         77\n",
      "23         74\n",
      "20         56\n",
      "18         56\n",
      "22         43\n",
      "24         34\n",
      "27         29\n",
      "29         29\n",
      "28         23\n",
      "21         22\n",
      "25         20\n",
      "26         17\n",
      "30         15\n",
      "31          9\n",
      "36          8\n",
      "37          7\n",
      "38          6\n",
      "35          6\n",
      "32          5\n",
      "51          4\n",
      "43          4\n",
      "41          4\n",
      "34          3\n",
      "33          3\n",
      "55          2\n",
      "39          2\n",
      "40          1\n",
      "47          1\n",
      "46          1\n",
      "200         1\n",
      "48          1\n",
      "58          1\n",
      "Name: count, dtype: int64\n",
      "poutcome\n",
      "unknown    672450\n",
      "failure     45115\n",
      "success     17691\n",
      "other       14744\n",
      "Name: count, dtype: int64\n",
      "y\n",
      "0    659512\n",
      "1     90488\n",
      "Name: count, dtype: int64\n"
     ]
    }
   ],
   "source": [
    "#check importance of features\n",
    "for col in df.columns:\n",
    "    print(df[col].value_counts())"
   ]
  },
  {
   "cell_type": "code",
   "execution_count": 7,
   "id": "dd609c6e-9893-4cc2-8b73-c5287b285f96",
   "metadata": {
    "executionInfo": {
     "elapsed": 601,
     "status": "ok",
     "timestamp": 1756240354696,
     "user": {
      "displayName": "raouf lounis",
      "userId": "11354439901126171963"
     },
     "user_tz": -120
    },
    "id": "dd609c6e-9893-4cc2-8b73-c5287b285f96"
   },
   "outputs": [],
   "source": [
    "#check missing values replaced by \"unknown\"\n",
    "df_missing = df.replace(\"unknown\", np.nan)"
   ]
  },
  {
   "cell_type": "code",
   "execution_count": 8,
   "id": "3bf39660-bfb2-49b6-ab59-9727cc16157a",
   "metadata": {
    "colab": {
     "base_uri": "https://localhost:8080/",
     "height": 613
    },
    "executionInfo": {
     "elapsed": 1141,
     "status": "ok",
     "timestamp": 1756240358220,
     "user": {
      "displayName": "raouf lounis",
      "userId": "11354439901126171963"
     },
     "user_tz": -120
    },
    "id": "3bf39660-bfb2-49b6-ab59-9727cc16157a",
    "outputId": "320395e1-5472-47b1-b36e-1bfca991e70a"
   },
   "outputs": [
    {
     "data": {
      "text/html": [
       "<div>\n",
       "<style scoped>\n",
       "    .dataframe tbody tr th:only-of-type {\n",
       "        vertical-align: middle;\n",
       "    }\n",
       "\n",
       "    .dataframe tbody tr th {\n",
       "        vertical-align: top;\n",
       "    }\n",
       "\n",
       "    .dataframe thead th {\n",
       "        text-align: right;\n",
       "    }\n",
       "</style>\n",
       "<table border=\"1\" class=\"dataframe\">\n",
       "  <thead>\n",
       "    <tr style=\"text-align: right;\">\n",
       "      <th></th>\n",
       "      <th>missinf value count</th>\n",
       "      <th>missing percent</th>\n",
       "    </tr>\n",
       "  </thead>\n",
       "  <tbody>\n",
       "    <tr>\n",
       "      <th>poutcome</th>\n",
       "      <td>672450</td>\n",
       "      <td>89.660000</td>\n",
       "    </tr>\n",
       "    <tr>\n",
       "      <th>contact</th>\n",
       "      <td>231627</td>\n",
       "      <td>30.883600</td>\n",
       "    </tr>\n",
       "    <tr>\n",
       "      <th>education</th>\n",
       "      <td>21299</td>\n",
       "      <td>2.839867</td>\n",
       "    </tr>\n",
       "    <tr>\n",
       "      <th>job</th>\n",
       "      <td>2917</td>\n",
       "      <td>0.388933</td>\n",
       "    </tr>\n",
       "    <tr>\n",
       "      <th>day</th>\n",
       "      <td>0</td>\n",
       "      <td>0.000000</td>\n",
       "    </tr>\n",
       "    <tr>\n",
       "      <th>previous</th>\n",
       "      <td>0</td>\n",
       "      <td>0.000000</td>\n",
       "    </tr>\n",
       "    <tr>\n",
       "      <th>pdays</th>\n",
       "      <td>0</td>\n",
       "      <td>0.000000</td>\n",
       "    </tr>\n",
       "    <tr>\n",
       "      <th>campaign</th>\n",
       "      <td>0</td>\n",
       "      <td>0.000000</td>\n",
       "    </tr>\n",
       "    <tr>\n",
       "      <th>duration</th>\n",
       "      <td>0</td>\n",
       "      <td>0.000000</td>\n",
       "    </tr>\n",
       "    <tr>\n",
       "      <th>month</th>\n",
       "      <td>0</td>\n",
       "      <td>0.000000</td>\n",
       "    </tr>\n",
       "    <tr>\n",
       "      <th>id</th>\n",
       "      <td>0</td>\n",
       "      <td>0.000000</td>\n",
       "    </tr>\n",
       "    <tr>\n",
       "      <th>age</th>\n",
       "      <td>0</td>\n",
       "      <td>0.000000</td>\n",
       "    </tr>\n",
       "    <tr>\n",
       "      <th>loan</th>\n",
       "      <td>0</td>\n",
       "      <td>0.000000</td>\n",
       "    </tr>\n",
       "    <tr>\n",
       "      <th>housing</th>\n",
       "      <td>0</td>\n",
       "      <td>0.000000</td>\n",
       "    </tr>\n",
       "    <tr>\n",
       "      <th>balance</th>\n",
       "      <td>0</td>\n",
       "      <td>0.000000</td>\n",
       "    </tr>\n",
       "    <tr>\n",
       "      <th>default</th>\n",
       "      <td>0</td>\n",
       "      <td>0.000000</td>\n",
       "    </tr>\n",
       "    <tr>\n",
       "      <th>marital</th>\n",
       "      <td>0</td>\n",
       "      <td>0.000000</td>\n",
       "    </tr>\n",
       "    <tr>\n",
       "      <th>y</th>\n",
       "      <td>0</td>\n",
       "      <td>0.000000</td>\n",
       "    </tr>\n",
       "  </tbody>\n",
       "</table>\n",
       "</div>"
      ],
      "text/plain": [
       "           missinf value count  missing percent\n",
       "poutcome                672450        89.660000\n",
       "contact                 231627        30.883600\n",
       "education                21299         2.839867\n",
       "job                       2917         0.388933\n",
       "day                          0         0.000000\n",
       "previous                     0         0.000000\n",
       "pdays                        0         0.000000\n",
       "campaign                     0         0.000000\n",
       "duration                     0         0.000000\n",
       "month                        0         0.000000\n",
       "id                           0         0.000000\n",
       "age                          0         0.000000\n",
       "loan                         0         0.000000\n",
       "housing                      0         0.000000\n",
       "balance                      0         0.000000\n",
       "default                      0         0.000000\n",
       "marital                      0         0.000000\n",
       "y                            0         0.000000"
      ]
     },
     "execution_count": 8,
     "metadata": {},
     "output_type": "execute_result"
    }
   ],
   "source": [
    "missing_percent = df_missing.isna().sum() / len(df_missing) * 100\n",
    "missing_data = pd.DataFrame({\"missinf value count\": df_missing.isna().sum(), \"missing percent\": missing_percent})\n",
    "missing_data.sort_values(by=\"missing percent\", ascending=False)"
   ]
  },
  {
   "cell_type": "code",
   "execution_count": 9,
   "id": "13097d25-8667-4764-ae00-8419227fe08b",
   "metadata": {
    "colab": {
     "base_uri": "https://localhost:8080/",
     "height": 241
    },
    "executionInfo": {
     "elapsed": 62,
     "status": "ok",
     "timestamp": 1756240359352,
     "user": {
      "displayName": "raouf lounis",
      "userId": "11354439901126171963"
     },
     "user_tz": -120
    },
    "id": "13097d25-8667-4764-ae00-8419227fe08b",
    "outputId": "9867e17d-70ad-40fd-b1e6-abbf8c570ad2"
   },
   "outputs": [
    {
     "data": {
      "text/plain": [
       "poutcome\n",
       "failure    0.132794\n",
       "other      0.166848\n",
       "success    0.764004\n",
       "unknown    0.101898\n",
       "Name: y, dtype: float64"
      ]
     },
     "execution_count": 9,
     "metadata": {},
     "output_type": "execute_result"
    }
   ],
   "source": [
    "df.groupby(\"poutcome\")['y'].mean()"
   ]
  },
  {
   "cell_type": "code",
   "execution_count": 10,
   "id": "31bdedd0-1b8c-4e21-9f8b-78ecc4a36a7e",
   "metadata": {
    "executionInfo": {
     "elapsed": 132,
     "status": "ok",
     "timestamp": 1756240360641,
     "user": {
      "displayName": "raouf lounis",
      "userId": "11354439901126171963"
     },
     "user_tz": -120
    },
    "id": "31bdedd0-1b8c-4e21-9f8b-78ecc4a36a7e"
   },
   "outputs": [],
   "source": [
    "#add missing_col feature for most missed data\n",
    "for col in [\"poutcome\", \"contact\"]:\n",
    "    df[f\"missing_{col}\"] = df[col] == \"unknown\""
   ]
  },
  {
   "cell_type": "code",
   "execution_count": 13,
   "id": "8bc5fc19-ff15-4c2a-9872-3fac704436d1",
   "metadata": {
    "colab": {
     "base_uri": "https://localhost:8080/",
     "height": 241
    },
    "executionInfo": {
     "elapsed": 32,
     "status": "ok",
     "timestamp": 1756240362837,
     "user": {
      "displayName": "raouf lounis",
      "userId": "11354439901126171963"
     },
     "user_tz": -120
    },
    "id": "8bc5fc19-ff15-4c2a-9872-3fac704436d1",
    "outputId": "a875a02b-20f6-4b51-eb9d-20395a9c8a98"
   },
   "outputs": [
    {
     "data": {
      "text/plain": [
       "education\n",
       "primary      0.083097\n",
       "secondary    0.105491\n",
       "tertiary     0.162649\n",
       "unknown      0.133387\n",
       "Name: y, dtype: float64"
      ]
     },
     "execution_count": 13,
     "metadata": {},
     "output_type": "execute_result"
    }
   ],
   "source": [
    "df.groupby(\"education\")['y'].mean()"
   ]
  },
  {
   "cell_type": "code",
   "execution_count": 14,
   "id": "a0b9c964-b59d-4eb5-b86f-2431450745d0",
   "metadata": {
    "colab": {
     "base_uri": "https://localhost:8080/",
     "height": 491
    },
    "executionInfo": {
     "elapsed": 91,
     "status": "ok",
     "timestamp": 1756240363911,
     "user": {
      "displayName": "raouf lounis",
      "userId": "11354439901126171963"
     },
     "user_tz": -120
    },
    "id": "a0b9c964-b59d-4eb5-b86f-2431450745d0",
    "outputId": "21469d52-2619-4f21-fabb-d24201ffb69c"
   },
   "outputs": [
    {
     "data": {
      "text/plain": [
       "job\n",
       "admin.           0.116453\n",
       "blue-collar      0.067438\n",
       "entrepreneur     0.081386\n",
       "housemaid        0.084653\n",
       "management       0.150392\n",
       "retired          0.246241\n",
       "self-employed    0.129443\n",
       "services         0.082714\n",
       "student          0.340784\n",
       "technician       0.118321\n",
       "unemployed       0.179823\n",
       "unknown          0.120672\n",
       "Name: y, dtype: float64"
      ]
     },
     "execution_count": 14,
     "metadata": {},
     "output_type": "execute_result"
    }
   ],
   "source": [
    "df.groupby(\"job\")['y'].mean()"
   ]
  },
  {
   "cell_type": "code",
   "execution_count": 15,
   "id": "9dcdeb85-16d7-4d9f-b4e9-260e5a635ac9",
   "metadata": {
    "executionInfo": {
     "elapsed": 127,
     "status": "ok",
     "timestamp": 1756240365044,
     "user": {
      "displayName": "raouf lounis",
      "userId": "11354439901126171963"
     },
     "user_tz": -120
    },
    "id": "9dcdeb85-16d7-4d9f-b4e9-260e5a635ac9"
   },
   "outputs": [],
   "source": [
    "df = df.drop(\"id\", axis=1)"
   ]
  },
  {
   "cell_type": "code",
   "execution_count": 16,
   "id": "692b8626-3b36-4269-a2ee-77bd92fed369",
   "metadata": {
    "colab": {
     "base_uri": "https://localhost:8080/",
     "height": 699
    },
    "executionInfo": {
     "elapsed": 1443,
     "status": "ok",
     "timestamp": 1756240367893,
     "user": {
      "displayName": "raouf lounis",
      "userId": "11354439901126171963"
     },
     "user_tz": -120
    },
    "id": "692b8626-3b36-4269-a2ee-77bd92fed369",
    "outputId": "5e87f007-d9dd-4f30-8950-7648b04d6af6"
   },
   "outputs": [
    {
     "data": {
      "image/png": "[encoded data removed]",
      "text/plain": [
       "<Figure size 1200x1200 with 9 Axes>"
      ]
     },
     "metadata": {},
     "output_type": "display_data"
    }
   ],
   "source": [
    "#visulation of data\n",
    "df.select_dtypes(include=[\"int64\", \"float64\"]).hist(figsize=(12, 12))\n",
    "plt.grid(True)\n",
    "plt.show()"
   ]
  },
  {
   "cell_type": "code",
   "execution_count": 17,
   "id": "d85c9abc-98a3-4fcb-a960-dfcfe27ea358",
   "metadata": {
    "colab": {
     "base_uri": "https://localhost:8080/",
     "height": 232
    },
    "executionInfo": {
     "elapsed": 4515,
     "status": "ok",
     "timestamp": 1756240373602,
     "user": {
      "displayName": "raouf lounis",
      "userId": "11354439901126171963"
     },
     "user_tz": -120
    },
    "id": "d85c9abc-98a3-4fcb-a960-dfcfe27ea358",
    "outputId": "70189b2a-ffa4-43c1-9530-7f17dac19900"
   },
   "outputs": [
    {
     "data": {
      "image/png": "[encoded data removed]",
      "text/plain": [
       "<Figure size 1600x500 with 3 Axes>"
      ]
     },
     "metadata": {},
     "output_type": "display_data"
    }
   ],
   "source": [
    "#box plot for most skewed data\n",
    "plt.figure(figsize=(16,5))\n",
    "\n",
    "plt.subplot(1,3,1)\n",
    "sns.boxplot(y=\"balance\", data=df)\n",
    "plt.title(\"box plot for balance\")\n",
    "plt.xticks(rotation=45)\n",
    "\n",
    "\n",
    "plt.subplot(1,3,2)\n",
    "sns.boxplot(y=\"previous\", data=df)\n",
    "plt.title(\"box plot for previous\")\n",
    "plt.xticks(rotation=45)\n",
    "\n",
    "\n",
    "plt.subplot(1,3,3)\n",
    "sns.boxplot(y=\"campaign\", data=df)\n",
    "plt.title(\"box plot for campaign\")\n",
    "plt.xticks(rotation=45)\n",
    "\n",
    "plt.tight_layout()\n",
    "plt.show()\n"
   ]
  },
  {
   "cell_type": "code",
   "execution_count": 18,
   "id": "450bc3b2-e85b-4352-b829-c29874a6ee39",
   "metadata": {
    "colab": {
     "base_uri": "https://localhost:8080/"
    },
    "executionInfo": {
     "elapsed": 201,
     "status": "ok",
     "timestamp": 1756240376121,
     "user": {
      "displayName": "raouf lounis",
      "userId": "11354439901126171963"
     },
     "user_tz": -120
    },
    "id": "450bc3b2-e85b-4352-b829-c29874a6ee39",
    "outputId": "c6ef5563-66df-4cd2-832b-44476d3a18a5"
   },
   "outputs": [
    {
     "name": "stdout",
     "output_type": "stream",
     "text": [
      "y           1.000000\n",
      "duration    0.519283\n",
      "balance     0.122513\n",
      "previous    0.119552\n",
      "pdays       0.089277\n",
      "age         0.009523\n",
      "day        -0.049625\n",
      "campaign   -0.075829\n",
      "Name: y, dtype: float64\n"
     ]
    }
   ],
   "source": [
    "correlation_matrix = df.select_dtypes(include=[\"int64\", \"float64\"]).corr()\n",
    "print(correlation_matrix[\"y\"].sort_values(ascending=False))"
   ]
  },
  {
   "cell_type": "code",
   "execution_count": 19,
   "id": "0ebf50df-cf4b-4826-b3f2-672c26bd89f0",
   "metadata": {
    "colab": {
     "base_uri": "https://localhost:8080/",
     "height": 335
    },
    "executionInfo": {
     "elapsed": 75,
     "status": "ok",
     "timestamp": 1756240377108,
     "user": {
      "displayName": "raouf lounis",
      "userId": "11354439901126171963"
     },
     "user_tz": -120
    },
    "id": "0ebf50df-cf4b-4826-b3f2-672c26bd89f0",
    "outputId": "ac4d66f5-357d-4956-9f32-bbc8048a2817"
   },
   "outputs": [
    {
     "data": {
      "text/plain": [
       "age          0.586137\n",
       "balance     12.304123\n",
       "day          0.054014\n",
       "duration     2.048776\n",
       "campaign     4.810437\n",
       "pdays        3.625049\n",
       "previous    13.749885\n",
       "y            2.329296\n",
       "dtype: float64"
      ]
     },
     "execution_count": 19,
     "metadata": {},
     "output_type": "execute_result"
    }
   ],
   "source": [
    "df.select_dtypes(include=[\"int64\", \"float64\"]).skew()"
   ]
  },
  {
   "cell_type": "code",
   "execution_count": 20,
   "id": "71d5cc01-344c-4b8d-8cb3-d806c7035858",
   "metadata": {
    "executionInfo": {
     "elapsed": 40,
     "status": "ok",
     "timestamp": 1756240378172,
     "user": {
      "displayName": "raouf lounis",
      "userId": "11354439901126171963"
     },
     "user_tz": -120
    },
    "id": "71d5cc01-344c-4b8d-8cb3-d806c7035858"
   },
   "outputs": [],
   "source": [
    "#handling big outliers using capping\n",
    "def winsorize(X, change_list,lower=0.01, upper=0.99):\n",
    "    X_df = X.copy()\n",
    "\n",
    "    for col in change_list:\n",
    "        if pd.api.types.is_numeric_dtype(X_df[col]):\n",
    "            lower_bound = X_df[col].quantile(lower)\n",
    "            upper_bound = X_df[col].quantile(upper)\n",
    "            X_df[col] = np.clip(X_df[col], lower_bound, upper_bound)\n",
    "        else:\n",
    "            print(f\"Skipping non-numeric column: '{col}'\")\n",
    "\n",
    "    return X_df"
   ]
  },
  {
   "cell_type": "code",
   "execution_count": 21,
   "id": "3ff680b1-7561-41ae-8f72-54afa14e2ad6",
   "metadata": {
    "executionInfo": {
     "elapsed": 151,
     "status": "ok",
     "timestamp": 1756240379806,
     "user": {
      "displayName": "raouf lounis",
      "userId": "11354439901126171963"
     },
     "user_tz": -120
    },
    "id": "3ff680b1-7561-41ae-8f72-54afa14e2ad6"
   },
   "outputs": [],
   "source": [
    "df_cleane = winsorize(df, [\"balance\", \"previous\", \"campaign\"])"
   ]
  },
  {
   "cell_type": "code",
   "execution_count": 22,
   "id": "af7b7b10-5260-4e5f-be13-bd3459f9b311",
   "metadata": {
    "colab": {
     "base_uri": "https://localhost:8080/",
     "height": 232
    },
    "executionInfo": {
     "elapsed": 5186,
     "status": "ok",
     "timestamp": 1756240385947,
     "user": {
      "displayName": "raouf lounis",
      "userId": "11354439901126171963"
     },
     "user_tz": -120
    },
    "id": "af7b7b10-5260-4e5f-be13-bd3459f9b311",
    "outputId": "e4ef1099-4fe0-4459-e071-21c400a25542"
   },
   "outputs": [
    {
     "data": {
      "image/png": "[encoded data removed]",
      "text/plain": [
       "<Figure size 1600x500 with 3 Axes>"
      ]
     },
     "metadata": {},
     "output_type": "display_data"
    }
   ],
   "source": [
    "plt.figure(figsize=(16,5))\n",
    "\n",
    "plt.subplot(1,3,1)\n",
    "sns.boxplot(y=\"balance\", data=df_cleane)\n",
    "plt.title(\"box plot for balance\")\n",
    "plt.xticks(rotation=45)\n",
    "\n",
    "\n",
    "plt.subplot(1,3,2)\n",
    "sns.boxplot(y=\"previous\", data=df_cleane)\n",
    "plt.title(\"box plot for previous\")\n",
    "plt.xticks(rotation=45)\n",
    "\n",
    "\n",
    "plt.subplot(1,3,3)\n",
    "sns.boxplot(y=\"campaign\", data=df_cleane)\n",
    "plt.title(\"box plot for campaign\")\n",
    "plt.xticks(rotation=45)\n",
    "\n",
    "plt.tight_layout()\n",
    "plt.show()\n"
   ]
  },
  {
   "cell_type": "markdown",
   "id": "948213b5-3a76-4425-a28e-06c5e5685592",
   "metadata": {},
   "source": [
    "# spliting dataset"
   ]
  },
  {
   "cell_type": "code",
   "execution_count": 11,
   "id": "6ca97c40-5b62-4248-a698-6913a6edd0cc",
   "metadata": {
    "executionInfo": {
     "elapsed": 3038,
     "status": "ok",
     "timestamp": 1756240492586,
     "user": {
      "displayName": "raouf lounis",
      "userId": "11354439901126171963"
     },
     "user_tz": -120
    },
    "id": "6ca97c40-5b62-4248-a698-6913a6edd0cc"
   },
   "outputs": [],
   "source": [
    "df = pd.read_csv('playground-series-s5e8/train.csv')\n",
    "train_set, test_set =train_test_split(df, test_size=0.2, random_state=42)"
   ]
  },
  {
   "cell_type": "code",
   "execution_count": 12,
   "id": "vxwDLlCtF0V_",
   "metadata": {
    "executionInfo": {
     "elapsed": 346,
     "status": "ok",
     "timestamp": 1756240542583,
     "user": {
      "displayName": "raouf lounis",
      "userId": "11354439901126171963"
     },
     "user_tz": -120
    },
    "id": "vxwDLlCtF0V_"
   },
   "outputs": [],
   "source": [
    "x_train = train_set.drop(\"y\", axis=1)\n",
    "y_train = train_set[\"y\"]\n",
    "\n",
    "x_test = test_set.drop(\"y\", axis=1)\n",
    "y_test = test_set[\"y\"]"
   ]
  },
  {
   "cell_type": "code",
   "execution_count": 13,
   "id": "b1wM--EYGDiA",
   "metadata": {
    "colab": {
     "base_uri": "https://localhost:8080/"
    },
    "executionInfo": {
     "elapsed": 57,
     "status": "ok",
     "timestamp": 1756240573759,
     "user": {
      "displayName": "raouf lounis",
      "userId": "11354439901126171963"
     },
     "user_tz": -120
    },
    "id": "b1wM--EYGDiA",
    "outputId": "d838ab73-ff40-454d-a874-b0c7c2e70e15"
   },
   "outputs": [
    {
     "data": {
      "text/plain": [
       "(600000, 17)"
      ]
     },
     "execution_count": 13,
     "metadata": {},
     "output_type": "execute_result"
    }
   ],
   "source": [
    "x_train.shape"
   ]
  },
  {
   "cell_type": "code",
   "execution_count": 14,
   "id": "LKsopPKzGIfO",
   "metadata": {
    "colab": {
     "base_uri": "https://localhost:8080/"
    },
    "executionInfo": {
     "elapsed": 84,
     "status": "ok",
     "timestamp": 1756240598208,
     "user": {
      "displayName": "raouf lounis",
      "userId": "11354439901126171963"
     },
     "user_tz": -120
    },
    "id": "LKsopPKzGIfO",
    "outputId": "f910092d-c3da-4740-b81d-d5076b7ea417"
   },
   "outputs": [
    {
     "data": {
      "text/plain": [
       "(150000, 17)"
      ]
     },
     "execution_count": 14,
     "metadata": {},
     "output_type": "execute_result"
    }
   ],
   "source": [
    "x_test.shape"
   ]
  },
  {
   "cell_type": "code",
   "execution_count": 15,
   "id": "JM8MmfgRGTfh",
   "metadata": {
    "colab": {
     "base_uri": "https://localhost:8080/"
    },
    "executionInfo": {
     "elapsed": 51,
     "status": "ok",
     "timestamp": 1756240645787,
     "user": {
      "displayName": "raouf lounis",
      "userId": "11354439901126171963"
     },
     "user_tz": -120
    },
    "id": "JM8MmfgRGTfh",
    "outputId": "9eaeba54-f945-457d-c932-85e0361f2b5a"
   },
   "outputs": [
    {
     "data": {
      "text/plain": [
       "0.12065066666666667"
      ]
     },
     "execution_count": 15,
     "metadata": {},
     "output_type": "execute_result"
    }
   ],
   "source": [
    "df[\"y\"].sum()/len(df)"
   ]
  },
  {
   "cell_type": "code",
   "execution_count": 16,
   "id": "apBXcvA_GaQv",
   "metadata": {
    "colab": {
     "base_uri": "https://localhost:8080/"
    },
    "executionInfo": {
     "elapsed": 24,
     "status": "ok",
     "timestamp": 1756240676631,
     "user": {
      "displayName": "raouf lounis",
      "userId": "11354439901126171963"
     },
     "user_tz": -120
    },
    "id": "apBXcvA_GaQv",
    "outputId": "f19a2781-6dca-45dd-81e1-b03b3c55410a"
   },
   "outputs": [
    {
     "data": {
      "text/plain": [
       "0.12047166666666667"
      ]
     },
     "execution_count": 16,
     "metadata": {},
     "output_type": "execute_result"
    }
   ],
   "source": [
    "y_train.sum()/len(y_train)"
   ]
  },
  {
   "cell_type": "code",
   "execution_count": 17,
   "id": "5pEbZF4SGhRl",
   "metadata": {
    "colab": {
     "base_uri": "https://localhost:8080/"
    },
    "executionInfo": {
     "elapsed": 63,
     "status": "ok",
     "timestamp": 1756240694074,
     "user": {
      "displayName": "raouf lounis",
      "userId": "11354439901126171963"
     },
     "user_tz": -120
    },
    "id": "5pEbZF4SGhRl",
    "outputId": "5fa9bc8e-f3c7-486a-cf7c-4a618cc82266"
   },
   "outputs": [
    {
     "data": {
      "text/plain": [
       "0.12136666666666666"
      ]
     },
     "execution_count": 17,
     "metadata": {},
     "output_type": "execute_result"
    }
   ],
   "source": [
    "y_test.sum()/len(y_test)"
   ]
  },
  {
   "cell_type": "markdown",
   "id": "4d1434a1-655e-4ca5-8a3c-2537cfa45be1",
   "metadata": {},
   "source": [
    "# preprocess and train linear models"
   ]
  },
  {
   "cell_type": "code",
   "execution_count": 18,
   "id": "62aa7979-e0a0-4e22-a797-91fb2138b7b4",
   "metadata": {
    "executionInfo": {
     "elapsed": 51,
     "status": "ok",
     "timestamp": 1756240702112,
     "user": {
      "displayName": "raouf lounis",
      "userId": "11354439901126171963"
     },
     "user_tz": -120
    },
    "id": "62aa7979-e0a0-4e22-a797-91fb2138b7b4"
   },
   "outputs": [],
   "source": [
    "class AddDropFeatures(BaseEstimator, TransformerMixin):\n",
    "    def __init__(self, features_to_drop, missing_features, addfearures=True):\n",
    "        self.features_to_drop = features_to_drop if features_to_drop is not None else []\n",
    "        self.missing_features = missing_features if missing_features is not None else []\n",
    "        self.addfearures = addfearures\n",
    "    def fit(self, X, y=None):\n",
    "        return self\n",
    "    def transform(self, X):\n",
    "        if not isinstance(X, pd.DataFrame):\n",
    "            X = pd.DataFrame(X)\n",
    "        X_transformed = X.copy()\n",
    "\n",
    "        #add missing_col for features with most missing values\n",
    "        if self.addfearures:\n",
    "            for col in self.missing_features:\n",
    "                if col in X.columns:\n",
    "                    if X[col].dtype == 'object':\n",
    "                        X_transformed[f\"missing_{col}\"] = X[col]==\"unknown\"\n",
    "                    elif X[col].dtype in ['int64', 'float64']:\n",
    "                        X_transformed[f\"missing_{col}\"] = X[col]==-1\n",
    "\n",
    "        #drop not needed feature\n",
    "        for feature in self.features_to_drop:\n",
    "            if feature in X_transformed.columns:\n",
    "                X_transformed.drop(feature, axis=1, inplace=True)\n",
    "\n",
    "        return X_transformed"
   ]
  },
  {
   "cell_type": "code",
   "execution_count": 19,
   "id": "15ef708b-7f19-4847-8f44-d399a17f0e90",
   "metadata": {
    "colab": {
     "base_uri": "https://localhost:8080/"
    },
    "executionInfo": {
     "elapsed": 245,
     "status": "ok",
     "timestamp": 1756240705980,
     "user": {
      "displayName": "raouf lounis",
      "userId": "11354439901126171963"
     },
     "user_tz": -120
    },
    "id": "15ef708b-7f19-4847-8f44-d399a17f0e90",
    "outputId": "2073a627-ba0f-4450-f1c4-01cf8ab409b5"
   },
   "outputs": [
    {
     "name": "stdout",
     "output_type": "stream",
     "text": [
      "Stage 1 columns: ['age', 'job', 'marital', 'education', 'default', 'balance', 'housing', 'loan', 'contact', 'day', 'month', 'duration', 'campaign', 'pdays', 'previous', 'poutcome', 'missing_poutcome', 'missing_contact']\n"
     ]
    }
   ],
   "source": [
    "#stage1 pipeline: features engeniring\n",
    "drop_columns = [\"id\"]\n",
    "missing_list = [\"poutcome\", \"contact\"]\n",
    "stage1_pipeline= Pipeline([\n",
    "    ('change', AddDropFeatures(drop_columns, missing_list)),\n",
    "])\n",
    "x_stage1 = stage1_pipeline.fit_transform(x_train)\n",
    "print(f\"Stage 1 columns: {list(x_stage1.columns)}\")"
   ]
  },
  {
   "cell_type": "code",
   "execution_count": 20,
   "id": "d5e38da3-67d3-4d5e-be60-1dcddd9a4466",
   "metadata": {
    "executionInfo": {
     "elapsed": 2217,
     "status": "ok",
     "timestamp": 1756240712503,
     "user": {
      "displayName": "raouf lounis",
      "userId": "11354439901126171963"
     },
     "user_tz": -120
    },
    "id": "d5e38da3-67d3-4d5e-be60-1dcddd9a4466"
   },
   "outputs": [],
   "source": [
    "def cap_outliers(X, lower=0.01, upper=0.99):\n",
    "    X = np.asarray(X)\n",
    "    X_capped = np.copy(X)\n",
    "\n",
    "    lower_bounds = np.percentile(X, lower * 100, axis=0)\n",
    "    upper_bounds = np.percentile(X, upper * 100, axis=0)\n",
    "\n",
    "    for i in range(X.shape[1]):\n",
    "        X_capped[:, i] = np.clip(X[:, i], lower_bounds[i], upper_bounds[i])\n",
    "    return X_capped\n",
    "\n",
    "capping = FunctionTransformer(cap_outliers, validate=False)\n",
    "\n",
    "#no impute since there is no missing values\n",
    "num_Pipeline = Pipeline([\n",
    "    ('capping', capping),\n",
    "    ('scaler', StandardScaler())\n",
    "])\n",
    "\n",
    "#capping and transform columns with high skew\n",
    "#consider log transform since there is no left skewed feature\n",
    "log_Pipeline = Pipeline([\n",
    "    ('capping', capping),\n",
    "    ('log', FunctionTransformer(lambda x: np.log1p(np.clip(x, 0, None)), feature_names_out='one-to-one')),\n",
    "    ('scaler', StandardScaler())\n",
    "])\n",
    "\n",
    "cat_Pipeline = Pipeline([\n",
    "    ('encode', OneHotEncoder(handle_unknown=\"ignore\"))\n",
    "])\n",
    "\n",
    "cat_attribs = x_stage1.select_dtypes(include=\"object\").columns.tolist()\n",
    "nums = x_stage1.select_dtypes(exclude=\"object\").columns.tolist()\n",
    "\n",
    "skew_threshold = 1\n",
    "skewness = x_stage1.select_dtypes(include=['number']).skew()\n",
    "skewed_attrib = skewness[abs(skewness) > skew_threshold].index.tolist()\n",
    "\n",
    "num_attribs = [num for num in nums if num not in skewed_attrib]\n",
    "preprocess_transform = ColumnTransformer(\n",
    "    transformers = [\n",
    "    ('num', num_Pipeline, num_attribs),\n",
    "    ('cat', cat_Pipeline, cat_attribs),\n",
    "    ('skewed', log_Pipeline, skewed_attrib)\n",
    "    ],\n",
    "    remainder='passthrough')\n",
    "\n",
    "x_train_prepared = preprocess_transform.fit_transform(x_stage1)"
   ]
  },
  {
   "cell_type": "code",
   "execution_count": 21,
   "id": "bd9498bf-bdb8-4633-8a49-15c59779489e",
   "metadata": {
    "executionInfo": {
     "elapsed": 86,
     "status": "ok",
     "timestamp": 1756240719414,
     "user": {
      "displayName": "raouf lounis",
      "userId": "11354439901126171963"
     },
     "user_tz": -120
    },
    "id": "bd9498bf-bdb8-4633-8a49-15c59779489e"
   },
   "outputs": [],
   "source": [
    "#use cross validation to compare between models\n",
    "#metrics are f1 score, recall, precision, auc score\n",
    "#accurracy less considering since classes are imbalanced\n",
    "def cross_validation_score(model, data):\n",
    "    scoring = ['accuracy', 'f1', 'precision', 'recall', 'roc_auc']\n",
    "    cv_results = cross_validate(model, data, y_train, cv=3, scoring=scoring)\n",
    "\n",
    "\n",
    "    for metric in scoring:\n",
    "        scores = cv_results[f'test_{metric}']\n",
    "        print(f\"{metric.capitalize():10}: {scores.mean():.4f} (+/- {scores.std() * 2:.4f})\")"
   ]
  },
  {
   "cell_type": "code",
   "execution_count": 22,
   "id": "f57aea5a-d727-49d7-ba1f-c3df14c75d46",
   "metadata": {
    "executionInfo": {
     "elapsed": 40,
     "status": "ok",
     "timestamp": 1756240724824,
     "user": {
      "displayName": "raouf lounis",
      "userId": "11354439901126171963"
     },
     "user_tz": -120
    },
    "id": "f57aea5a-d727-49d7-ba1f-c3df14c75d46"
   },
   "outputs": [],
   "source": [
    "#this create because after tran precision > recall, and low f1 score in all models\n",
    "#goal is to make more balance between recision and recall\n",
    "#note: this function is not create by me\n",
    "def cv_best_threshold(model, X, y, cv=5):\n",
    "    # Get out-of-fold predicted probabilities\n",
    "    y_scores = cross_val_predict(model, X, y, cv=cv, method=\"predict_proba\")[:, 1]\n",
    "\n",
    "    # Precision-recall curve\n",
    "    precisions, recalls, thresholds = precision_recall_curve(y, y_scores)\n",
    "    f1_scores = 2 * (precisions * recalls) / (precisions + recalls)\n",
    "\n",
    "\n",
    "    best_idx = np.argmax(f1_scores)\n",
    "\n",
    "    return {\n",
    "        \"threshold\": thresholds[best_idx],\n",
    "        \"precision\": precisions[best_idx],\n",
    "        \"recall\": recalls[best_idx],\n",
    "        \"f1\": f1_scores[best_idx]\n",
    "    }\n"
   ]
  },
  {
   "cell_type": "code",
   "execution_count": 23,
   "id": "22bf8f80-1ca0-4827-b5cf-a8d204bfbc85",
   "metadata": {
    "colab": {
     "base_uri": "https://localhost:8080/",
     "height": 80
    },
    "executionInfo": {
     "elapsed": 9974,
     "status": "ok",
     "timestamp": 1756240742762,
     "user": {
      "displayName": "raouf lounis",
      "userId": "11354439901126171963"
     },
     "user_tz": -120
    },
    "id": "22bf8f80-1ca0-4827-b5cf-a8d204bfbc85",
    "outputId": "ac1eeb73-d121-4fad-a0d9-89ea1642e3ea"
   },
   "outputs": [
    {
     "data": {
      "text/html": [
       "<style>#sk-container-id-1 {color: black;}#sk-container-id-1 pre{padding: 0;}#sk-container-id-1 div.sk-toggleable {background-color: white;}#sk-container-id-1 label.sk-toggleable__label {cursor: pointer;display: block;width: 100%;margin-bottom: 0;padding: 0.3em;box-sizing: border-box;text-align: center;}#sk-container-id-1 label.sk-toggleable__label-arrow:before {content: \"▸\";float: left;margin-right: 0.25em;color: #696969;}#sk-container-id-1 label.sk-toggleable__label-arrow:hover:before {color: black;}#sk-container-id-1 div.sk-estimator:hover label.sk-toggleable__label-arrow:before {color: black;}#sk-container-id-1 div.sk-toggleable__content {max-height: 0;max-width: 0;overflow: hidden;text-align: left;background-color: #f0f8ff;}#sk-container-id-1 div.sk-toggleable__content pre {margin: 0.2em;color: black;border-radius: 0.25em;background-color: #f0f8ff;}#sk-container-id-1 input.sk-toggleable__control:checked~div.sk-toggleable__content {max-height: 200px;max-width: 100%;overflow: auto;}#sk-container-id-1 input.sk-toggleable__control:checked~label.sk-toggleable__label-arrow:before {content: \"▾\";}#sk-container-id-1 div.sk-estimator input.sk-toggleable__control:checked~label.sk-toggleable__label {background-color: #d4ebff;}#sk-container-id-1 div.sk-label input.sk-toggleable__control:checked~label.sk-toggleable__label {background-color: #d4ebff;}#sk-container-id-1 input.sk-hidden--visually {border: 0;clip: rect(1px 1px 1px 1px);clip: rect(1px, 1px, 1px, 1px);height: 1px;margin: -1px;overflow: hidden;padding: 0;position: absolute;width: 1px;}#sk-container-id-1 div.sk-estimator {font-family: monospace;background-color: #f0f8ff;border: 1px dotted black;border-radius: 0.25em;box-sizing: border-box;margin-bottom: 0.5em;}#sk-container-id-1 div.sk-estimator:hover {background-color: #d4ebff;}#sk-container-id-1 div.sk-parallel-item::after {content: \"\";width: 100%;border-bottom: 1px solid gray;flex-grow: 1;}#sk-container-id-1 div.sk-label:hover label.sk-toggleable__label {background-color: #d4ebff;}#sk-container-id-1 div.sk-serial::before {content: \"\";position: absolute;border-left: 1px solid gray;box-sizing: border-box;top: 0;bottom: 0;left: 50%;z-index: 0;}#sk-container-id-1 div.sk-serial {display: flex;flex-direction: column;align-items: center;background-color: white;padding-right: 0.2em;padding-left: 0.2em;position: relative;}#sk-container-id-1 div.sk-item {position: relative;z-index: 1;}#sk-container-id-1 div.sk-parallel {display: flex;align-items: stretch;justify-content: center;background-color: white;position: relative;}#sk-container-id-1 div.sk-item::before, #sk-container-id-1 div.sk-parallel-item::before {content: \"\";position: absolute;border-left: 1px solid gray;box-sizing: border-box;top: 0;bottom: 0;left: 50%;z-index: -1;}#sk-container-id-1 div.sk-parallel-item {display: flex;flex-direction: column;z-index: 1;position: relative;background-color: white;}#sk-container-id-1 div.sk-parallel-item:first-child::after {align-self: flex-end;width: 50%;}#sk-container-id-1 div.sk-parallel-item:last-child::after {align-self: flex-start;width: 50%;}#sk-container-id-1 div.sk-parallel-item:only-child::after {width: 0;}#sk-container-id-1 div.sk-dashed-wrapped {border: 1px dashed gray;margin: 0 0.4em 0.5em 0.4em;box-sizing: border-box;padding-bottom: 0.4em;background-color: white;}#sk-container-id-1 div.sk-label label {font-family: monospace;font-weight: bold;display: inline-block;line-height: 1.2em;}#sk-container-id-1 div.sk-label-container {text-align: center;}#sk-container-id-1 div.sk-container {/* jupyter's `normalize.less` sets `[hidden] { display: none; }` but bootstrap.min.css set `[hidden] { display: none !important; }` so we also need the `!important` here to be able to override the default hidden behavior on the sphinx rendered scikit-learn.org. See: https://github.com/scikit-learn/scikit-learn/issues/21755 */display: inline-block !important;position: relative;}#sk-container-id-1 div.sk-text-repr-fallback {display: none;}</style><div id=\"sk-container-id-1\" class=\"sk-top-container\"><div class=\"sk-text-repr-fallback\"><pre>LogisticRegression(max_iter=1000, random_state=42)</pre><b>In a Jupyter environment, please rerun this cell to show the HTML representation or trust the notebook. <br />On GitHub, the HTML representation is unable to render, please try loading this page with nbviewer.org.</b></div><div class=\"sk-container\" hidden><div class=\"sk-item\"><div class=\"sk-estimator sk-toggleable\"><input class=\"sk-toggleable__control sk-hidden--visually\" id=\"sk-estimator-id-1\" type=\"checkbox\" checked><label for=\"sk-estimator-id-1\" class=\"sk-toggleable__label sk-toggleable__label-arrow\">LogisticRegression</label><div class=\"sk-toggleable__content\"><pre>LogisticRegression(max_iter=1000, random_state=42)</pre></div></div></div></div></div>"
      ],
      "text/plain": [
       "LogisticRegression(max_iter=1000, random_state=42)"
      ]
     },
     "execution_count": 23,
     "metadata": {},
     "output_type": "execute_result"
    }
   ],
   "source": [
    "#lositic regression and evaluate it\n",
    "log_reg = LogisticRegression(max_iter=1000, random_state=42)\n",
    "log_reg.fit(x_train_prepared, y_train)"
   ]
  },
  {
   "cell_type": "code",
   "execution_count": 24,
   "id": "edd25e8b-a5da-4cd9-9f2b-2cd4796bb824",
   "metadata": {
    "colab": {
     "base_uri": "https://localhost:8080/"
    },
    "executionInfo": {
     "elapsed": 24494,
     "status": "ok",
     "timestamp": 1756240809963,
     "user": {
      "displayName": "raouf lounis",
      "userId": "11354439901126171963"
     },
     "user_tz": -120
    },
    "id": "edd25e8b-a5da-4cd9-9f2b-2cd4796bb824",
    "outputId": "1763fe10-1ff7-44b0-a9a0-6a48435b843b"
   },
   "outputs": [
    {
     "name": "stdout",
     "output_type": "stream",
     "text": [
      "Accuracy  : 0.9164 (+/- 0.0013)\n",
      "F1        : 0.6009 (+/- 0.0066)\n",
      "Precision : 0.7069 (+/- 0.0077)\n",
      "Recall    : 0.5225 (+/- 0.0069)\n",
      "Roc_auc   : 0.9438 (+/- 0.0010)\n"
     ]
    }
   ],
   "source": [
    "cross_validation_score(log_reg, x_train_prepared)"
   ]
  },
  {
   "cell_type": "code",
   "execution_count": 25,
   "id": "e0a641ff-45f1-4e29-9737-a78b3377c39b",
   "metadata": {
    "colab": {
     "base_uri": "https://localhost:8080/",
     "height": 80
    },
    "executionInfo": {
     "elapsed": 1804,
     "status": "ok",
     "timestamp": 1756240818254,
     "user": {
      "displayName": "raouf lounis",
      "userId": "11354439901126171963"
     },
     "user_tz": -120
    },
    "id": "e0a641ff-45f1-4e29-9737-a78b3377c39b",
    "outputId": "d6d71c2a-2e75-49d2-9c30-66577d3ef7a4"
   },
   "outputs": [
    {
     "data": {
      "text/html": [
       "<style>#sk-container-id-2 {color: black;}#sk-container-id-2 pre{padding: 0;}#sk-container-id-2 div.sk-toggleable {background-color: white;}#sk-container-id-2 label.sk-toggleable__label {cursor: pointer;display: block;width: 100%;margin-bottom: 0;padding: 0.3em;box-sizing: border-box;text-align: center;}#sk-container-id-2 label.sk-toggleable__label-arrow:before {content: \"▸\";float: left;margin-right: 0.25em;color: #696969;}#sk-container-id-2 label.sk-toggleable__label-arrow:hover:before {color: black;}#sk-container-id-2 div.sk-estimator:hover label.sk-toggleable__label-arrow:before {color: black;}#sk-container-id-2 div.sk-toggleable__content {max-height: 0;max-width: 0;overflow: hidden;text-align: left;background-color: #f0f8ff;}#sk-container-id-2 div.sk-toggleable__content pre {margin: 0.2em;color: black;border-radius: 0.25em;background-color: #f0f8ff;}#sk-container-id-2 input.sk-toggleable__control:checked~div.sk-toggleable__content {max-height: 200px;max-width: 100%;overflow: auto;}#sk-container-id-2 input.sk-toggleable__control:checked~label.sk-toggleable__label-arrow:before {content: \"▾\";}#sk-container-id-2 div.sk-estimator input.sk-toggleable__control:checked~label.sk-toggleable__label {background-color: #d4ebff;}#sk-container-id-2 div.sk-label input.sk-toggleable__control:checked~label.sk-toggleable__label {background-color: #d4ebff;}#sk-container-id-2 input.sk-hidden--visually {border: 0;clip: rect(1px 1px 1px 1px);clip: rect(1px, 1px, 1px, 1px);height: 1px;margin: -1px;overflow: hidden;padding: 0;position: absolute;width: 1px;}#sk-container-id-2 div.sk-estimator {font-family: monospace;background-color: #f0f8ff;border: 1px dotted black;border-radius: 0.25em;box-sizing: border-box;margin-bottom: 0.5em;}#sk-container-id-2 div.sk-estimator:hover {background-color: #d4ebff;}#sk-container-id-2 div.sk-parallel-item::after {content: \"\";width: 100%;border-bottom: 1px solid gray;flex-grow: 1;}#sk-container-id-2 div.sk-label:hover label.sk-toggleable__label {background-color: #d4ebff;}#sk-container-id-2 div.sk-serial::before {content: \"\";position: absolute;border-left: 1px solid gray;box-sizing: border-box;top: 0;bottom: 0;left: 50%;z-index: 0;}#sk-container-id-2 div.sk-serial {display: flex;flex-direction: column;align-items: center;background-color: white;padding-right: 0.2em;padding-left: 0.2em;position: relative;}#sk-container-id-2 div.sk-item {position: relative;z-index: 1;}#sk-container-id-2 div.sk-parallel {display: flex;align-items: stretch;justify-content: center;background-color: white;position: relative;}#sk-container-id-2 div.sk-item::before, #sk-container-id-2 div.sk-parallel-item::before {content: \"\";position: absolute;border-left: 1px solid gray;box-sizing: border-box;top: 0;bottom: 0;left: 50%;z-index: -1;}#sk-container-id-2 div.sk-parallel-item {display: flex;flex-direction: column;z-index: 1;position: relative;background-color: white;}#sk-container-id-2 div.sk-parallel-item:first-child::after {align-self: flex-end;width: 50%;}#sk-container-id-2 div.sk-parallel-item:last-child::after {align-self: flex-start;width: 50%;}#sk-container-id-2 div.sk-parallel-item:only-child::after {width: 0;}#sk-container-id-2 div.sk-dashed-wrapped {border: 1px dashed gray;margin: 0 0.4em 0.5em 0.4em;box-sizing: border-box;padding-bottom: 0.4em;background-color: white;}#sk-container-id-2 div.sk-label label {font-family: monospace;font-weight: bold;display: inline-block;line-height: 1.2em;}#sk-container-id-2 div.sk-label-container {text-align: center;}#sk-container-id-2 div.sk-container {/* jupyter's `normalize.less` sets `[hidden] { display: none; }` but bootstrap.min.css set `[hidden] { display: none !important; }` so we also need the `!important` here to be able to override the default hidden behavior on the sphinx rendered scikit-learn.org. See: https://github.com/scikit-learn/scikit-learn/issues/21755 */display: inline-block !important;position: relative;}#sk-container-id-2 div.sk-text-repr-fallback {display: none;}</style><div id=\"sk-container-id-2\" class=\"sk-top-container\"><div class=\"sk-text-repr-fallback\"><pre>SGDClassifier(random_state=42)</pre><b>In a Jupyter environment, please rerun this cell to show the HTML representation or trust the notebook. <br />On GitHub, the HTML representation is unable to render, please try loading this page with nbviewer.org.</b></div><div class=\"sk-container\" hidden><div class=\"sk-item\"><div class=\"sk-estimator sk-toggleable\"><input class=\"sk-toggleable__control sk-hidden--visually\" id=\"sk-estimator-id-2\" type=\"checkbox\" checked><label for=\"sk-estimator-id-2\" class=\"sk-toggleable__label sk-toggleable__label-arrow\">SGDClassifier</label><div class=\"sk-toggleable__content\"><pre>SGDClassifier(random_state=42)</pre></div></div></div></div></div>"
      ],
      "text/plain": [
       "SGDClassifier(random_state=42)"
      ]
     },
     "execution_count": 25,
     "metadata": {},
     "output_type": "execute_result"
    }
   ],
   "source": [
    "#stochastic gradient descent classification and validate it\n",
    "sgd_cls = SGDClassifier(random_state=42)\n",
    "sgd_cls.fit(x_train_prepared, y_train)"
   ]
  },
  {
   "cell_type": "code",
   "execution_count": 26,
   "id": "23c5a6cf-6fa9-49af-8cc5-bbdb280571df",
   "metadata": {
    "colab": {
     "base_uri": "https://localhost:8080/"
    },
    "executionInfo": {
     "elapsed": 5352,
     "status": "ok",
     "timestamp": 1756240825486,
     "user": {
      "displayName": "raouf lounis",
      "userId": "11354439901126171963"
     },
     "user_tz": -120
    },
    "id": "23c5a6cf-6fa9-49af-8cc5-bbdb280571df",
    "outputId": "503f3e3c-2168-42af-d8c5-078d37de164b"
   },
   "outputs": [
    {
     "name": "stdout",
     "output_type": "stream",
     "text": [
      "Accuracy  : 0.9126 (+/- 0.0020)\n",
      "F1        : 0.5386 (+/- 0.0309)\n",
      "Precision : 0.7393 (+/- 0.0151)\n",
      "Recall    : 0.4242 (+/- 0.0435)\n",
      "Roc_auc   : 0.9417 (+/- 0.0002)\n"
     ]
    }
   ],
   "source": [
    "cross_validation_score(sgd_cls, x_train_prepared)"
   ]
  },
  {
   "cell_type": "markdown",
   "id": "db2916ab-f449-4696-b579-4a220dbfd715",
   "metadata": {},
   "source": [
    "# preprocess and train tree based lodels\n",
    "decision tree, random forest, xgboost"
   ]
  },
  {
   "cell_type": "code",
   "execution_count": 27,
   "id": "016066da-71d4-41bb-b6d7-9372b4b18fae",
   "metadata": {
    "executionInfo": {
     "elapsed": 2758,
     "status": "ok",
     "timestamp": 1756240874255,
     "user": {
      "displayName": "raouf lounis",
      "userId": "11354439901126171963"
     },
     "user_tz": -120
    },
    "id": "016066da-71d4-41bb-b6d7-9372b4b18fae"
   },
   "outputs": [],
   "source": [
    "#pipeline for tree based model: no scale, no transform\n",
    "cat_Pipeline = Pipeline([\n",
    "    ('encode', OneHotEncoder(handle_unknown=\"ignore\"))\n",
    "])\n",
    "\n",
    "cat_attribs = x_stage1.select_dtypes(include=\"object\").columns.tolist()\n",
    "\n",
    "preprocess_transform_tree = ColumnTransformer(\n",
    "    transformers = [\n",
    "        ('cat', cat_Pipeline, cat_attribs),\n",
    "    ],\n",
    "    remainder='passthrough')\n",
    "\n",
    "x_train_prepared_tree = preprocess_transform_tree.fit_transform(x_stage1)"
   ]
  },
  {
   "cell_type": "code",
   "execution_count": 28,
   "id": "tsKq2_zlHRO5",
   "metadata": {
    "colab": {
     "base_uri": "https://localhost:8080/",
     "height": 97
    },
    "executionInfo": {
     "elapsed": 3522,
     "status": "ok",
     "timestamp": 1756240925033,
     "user": {
      "displayName": "raouf lounis",
      "userId": "11354439901126171963"
     },
     "user_tz": -120
    },
    "id": "tsKq2_zlHRO5",
    "outputId": "f26398cb-9198-4863-e0de-6bc623fa4891"
   },
   "outputs": [
    {
     "data": {
      "text/html": [
       "<style>#sk-container-id-3 {color: black;}#sk-container-id-3 pre{padding: 0;}#sk-container-id-3 div.sk-toggleable {background-color: white;}#sk-container-id-3 label.sk-toggleable__label {cursor: pointer;display: block;width: 100%;margin-bottom: 0;padding: 0.3em;box-sizing: border-box;text-align: center;}#sk-container-id-3 label.sk-toggleable__label-arrow:before {content: \"▸\";float: left;margin-right: 0.25em;color: #696969;}#sk-container-id-3 label.sk-toggleable__label-arrow:hover:before {color: black;}#sk-container-id-3 div.sk-estimator:hover label.sk-toggleable__label-arrow:before {color: black;}#sk-container-id-3 div.sk-toggleable__content {max-height: 0;max-width: 0;overflow: hidden;text-align: left;background-color: #f0f8ff;}#sk-container-id-3 div.sk-toggleable__content pre {margin: 0.2em;color: black;border-radius: 0.25em;background-color: #f0f8ff;}#sk-container-id-3 input.sk-toggleable__control:checked~div.sk-toggleable__content {max-height: 200px;max-width: 100%;overflow: auto;}#sk-container-id-3 input.sk-toggleable__control:checked~label.sk-toggleable__label-arrow:before {content: \"▾\";}#sk-container-id-3 div.sk-estimator input.sk-toggleable__control:checked~label.sk-toggleable__label {background-color: #d4ebff;}#sk-container-id-3 div.sk-label input.sk-toggleable__control:checked~label.sk-toggleable__label {background-color: #d4ebff;}#sk-container-id-3 input.sk-hidden--visually {border: 0;clip: rect(1px 1px 1px 1px);clip: rect(1px, 1px, 1px, 1px);height: 1px;margin: -1px;overflow: hidden;padding: 0;position: absolute;width: 1px;}#sk-container-id-3 div.sk-estimator {font-family: monospace;background-color: #f0f8ff;border: 1px dotted black;border-radius: 0.25em;box-sizing: border-box;margin-bottom: 0.5em;}#sk-container-id-3 div.sk-estimator:hover {background-color: #d4ebff;}#sk-container-id-3 div.sk-parallel-item::after {content: \"\";width: 100%;border-bottom: 1px solid gray;flex-grow: 1;}#sk-container-id-3 div.sk-label:hover label.sk-toggleable__label {background-color: #d4ebff;}#sk-container-id-3 div.sk-serial::before {content: \"\";position: absolute;border-left: 1px solid gray;box-sizing: border-box;top: 0;bottom: 0;left: 50%;z-index: 0;}#sk-container-id-3 div.sk-serial {display: flex;flex-direction: column;align-items: center;background-color: white;padding-right: 0.2em;padding-left: 0.2em;position: relative;}#sk-container-id-3 div.sk-item {position: relative;z-index: 1;}#sk-container-id-3 div.sk-parallel {display: flex;align-items: stretch;justify-content: center;background-color: white;position: relative;}#sk-container-id-3 div.sk-item::before, #sk-container-id-3 div.sk-parallel-item::before {content: \"\";position: absolute;border-left: 1px solid gray;box-sizing: border-box;top: 0;bottom: 0;left: 50%;z-index: -1;}#sk-container-id-3 div.sk-parallel-item {display: flex;flex-direction: column;z-index: 1;position: relative;background-color: white;}#sk-container-id-3 div.sk-parallel-item:first-child::after {align-self: flex-end;width: 50%;}#sk-container-id-3 div.sk-parallel-item:last-child::after {align-self: flex-start;width: 50%;}#sk-container-id-3 div.sk-parallel-item:only-child::after {width: 0;}#sk-container-id-3 div.sk-dashed-wrapped {border: 1px dashed gray;margin: 0 0.4em 0.5em 0.4em;box-sizing: border-box;padding-bottom: 0.4em;background-color: white;}#sk-container-id-3 div.sk-label label {font-family: monospace;font-weight: bold;display: inline-block;line-height: 1.2em;}#sk-container-id-3 div.sk-label-container {text-align: center;}#sk-container-id-3 div.sk-container {/* jupyter's `normalize.less` sets `[hidden] { display: none; }` but bootstrap.min.css set `[hidden] { display: none !important; }` so we also need the `!important` here to be able to override the default hidden behavior on the sphinx rendered scikit-learn.org. See: https://github.com/scikit-learn/scikit-learn/issues/21755 */display: inline-block !important;position: relative;}#sk-container-id-3 div.sk-text-repr-fallback {display: none;}</style><div id=\"sk-container-id-3\" class=\"sk-top-container\"><div class=\"sk-text-repr-fallback\"><pre>DecisionTreeClassifier(max_depth=3, min_samples_leaf=2, min_samples_split=4,\n",
       "                       random_state=42)</pre><b>In a Jupyter environment, please rerun this cell to show the HTML representation or trust the notebook. <br />On GitHub, the HTML representation is unable to render, please try loading this page with nbviewer.org.</b></div><div class=\"sk-container\" hidden><div class=\"sk-item\"><div class=\"sk-estimator sk-toggleable\"><input class=\"sk-toggleable__control sk-hidden--visually\" id=\"sk-estimator-id-3\" type=\"checkbox\" checked><label for=\"sk-estimator-id-3\" class=\"sk-toggleable__label sk-toggleable__label-arrow\">DecisionTreeClassifier</label><div class=\"sk-toggleable__content\"><pre>DecisionTreeClassifier(max_depth=3, min_samples_leaf=2, min_samples_split=4,\n",
       "                       random_state=42)</pre></div></div></div></div></div>"
      ],
      "text/plain": [
       "DecisionTreeClassifier(max_depth=3, min_samples_leaf=2, min_samples_split=4,\n",
       "                       random_state=42)"
      ]
     },
     "execution_count": 28,
     "metadata": {},
     "output_type": "execute_result"
    }
   ],
   "source": [
    "clf = DecisionTreeClassifier(\n",
    "    criterion=\"gini\",\n",
    "    max_depth=3,\n",
    "    min_samples_split=4,\n",
    "    min_samples_leaf=2,\n",
    "    random_state=42\n",
    ")\n",
    "clf.fit(x_train_prepared_tree, y_train)"
   ]
  },
  {
   "cell_type": "code",
   "execution_count": 29,
   "id": "ACQ63md9Hic6",
   "metadata": {
    "colab": {
     "base_uri": "https://localhost:8080/"
    },
    "executionInfo": {
     "elapsed": 7782,
     "status": "ok",
     "timestamp": 1756240961434,
     "user": {
      "displayName": "raouf lounis",
      "userId": "11354439901126171963"
     },
     "user_tz": -120
    },
    "id": "ACQ63md9Hic6",
    "outputId": "c31bc1c3-5f7c-4376-9d08-133d2873459a"
   },
   "outputs": [
    {
     "name": "stdout",
     "output_type": "stream",
     "text": [
      "Accuracy  : 0.9091 (+/- 0.0012)\n",
      "F1        : 0.5113 (+/- 0.0087)\n",
      "Precision : 0.7257 (+/- 0.0070)\n",
      "Recall    : 0.3947 (+/- 0.0086)\n",
      "Roc_auc   : 0.8862 (+/- 0.0014)\n"
     ]
    }
   ],
   "source": [
    "cross_validation_score(clf, x_train_prepared_tree)"
   ]
  },
  {
   "cell_type": "code",
   "execution_count": 30,
   "id": "YwA_FPKgxCU7",
   "metadata": {
    "colab": {
     "base_uri": "https://localhost:8080/",
     "height": 80
    },
    "executionInfo": {
     "elapsed": 109905,
     "status": "ok",
     "timestamp": 1756241083605,
     "user": {
      "displayName": "raouf lounis",
      "userId": "11354439901126171963"
     },
     "user_tz": -120
    },
    "id": "YwA_FPKgxCU7",
    "outputId": "06dac6d8-52ac-4b79-e6e4-50a39508d8d7"
   },
   "outputs": [
    {
     "data": {
      "text/html": [
       "<style>#sk-container-id-4 {color: black;}#sk-container-id-4 pre{padding: 0;}#sk-container-id-4 div.sk-toggleable {background-color: white;}#sk-container-id-4 label.sk-toggleable__label {cursor: pointer;display: block;width: 100%;margin-bottom: 0;padding: 0.3em;box-sizing: border-box;text-align: center;}#sk-container-id-4 label.sk-toggleable__label-arrow:before {content: \"▸\";float: left;margin-right: 0.25em;color: #696969;}#sk-container-id-4 label.sk-toggleable__label-arrow:hover:before {color: black;}#sk-container-id-4 div.sk-estimator:hover label.sk-toggleable__label-arrow:before {color: black;}#sk-container-id-4 div.sk-toggleable__content {max-height: 0;max-width: 0;overflow: hidden;text-align: left;background-color: #f0f8ff;}#sk-container-id-4 div.sk-toggleable__content pre {margin: 0.2em;color: black;border-radius: 0.25em;background-color: #f0f8ff;}#sk-container-id-4 input.sk-toggleable__control:checked~div.sk-toggleable__content {max-height: 200px;max-width: 100%;overflow: auto;}#sk-container-id-4 input.sk-toggleable__control:checked~label.sk-toggleable__label-arrow:before {content: \"▾\";}#sk-container-id-4 div.sk-estimator input.sk-toggleable__control:checked~label.sk-toggleable__label {background-color: #d4ebff;}#sk-container-id-4 div.sk-label input.sk-toggleable__control:checked~label.sk-toggleable__label {background-color: #d4ebff;}#sk-container-id-4 input.sk-hidden--visually {border: 0;clip: rect(1px 1px 1px 1px);clip: rect(1px, 1px, 1px, 1px);height: 1px;margin: -1px;overflow: hidden;padding: 0;position: absolute;width: 1px;}#sk-container-id-4 div.sk-estimator {font-family: monospace;background-color: #f0f8ff;border: 1px dotted black;border-radius: 0.25em;box-sizing: border-box;margin-bottom: 0.5em;}#sk-container-id-4 div.sk-estimator:hover {background-color: #d4ebff;}#sk-container-id-4 div.sk-parallel-item::after {content: \"\";width: 100%;border-bottom: 1px solid gray;flex-grow: 1;}#sk-container-id-4 div.sk-label:hover label.sk-toggleable__label {background-color: #d4ebff;}#sk-container-id-4 div.sk-serial::before {content: \"\";position: absolute;border-left: 1px solid gray;box-sizing: border-box;top: 0;bottom: 0;left: 50%;z-index: 0;}#sk-container-id-4 div.sk-serial {display: flex;flex-direction: column;align-items: center;background-color: white;padding-right: 0.2em;padding-left: 0.2em;position: relative;}#sk-container-id-4 div.sk-item {position: relative;z-index: 1;}#sk-container-id-4 div.sk-parallel {display: flex;align-items: stretch;justify-content: center;background-color: white;position: relative;}#sk-container-id-4 div.sk-item::before, #sk-container-id-4 div.sk-parallel-item::before {content: \"\";position: absolute;border-left: 1px solid gray;box-sizing: border-box;top: 0;bottom: 0;left: 50%;z-index: -1;}#sk-container-id-4 div.sk-parallel-item {display: flex;flex-direction: column;z-index: 1;position: relative;background-color: white;}#sk-container-id-4 div.sk-parallel-item:first-child::after {align-self: flex-end;width: 50%;}#sk-container-id-4 div.sk-parallel-item:last-child::after {align-self: flex-start;width: 50%;}#sk-container-id-4 div.sk-parallel-item:only-child::after {width: 0;}#sk-container-id-4 div.sk-dashed-wrapped {border: 1px dashed gray;margin: 0 0.4em 0.5em 0.4em;box-sizing: border-box;padding-bottom: 0.4em;background-color: white;}#sk-container-id-4 div.sk-label label {font-family: monospace;font-weight: bold;display: inline-block;line-height: 1.2em;}#sk-container-id-4 div.sk-label-container {text-align: center;}#sk-container-id-4 div.sk-container {/* jupyter's `normalize.less` sets `[hidden] { display: none; }` but bootstrap.min.css set `[hidden] { display: none !important; }` so we also need the `!important` here to be able to override the default hidden behavior on the sphinx rendered scikit-learn.org. See: https://github.com/scikit-learn/scikit-learn/issues/21755 */display: inline-block !important;position: relative;}#sk-container-id-4 div.sk-text-repr-fallback {display: none;}</style><div id=\"sk-container-id-4\" class=\"sk-top-container\"><div class=\"sk-text-repr-fallback\"><pre>RandomForestClassifier(random_state=42)</pre><b>In a Jupyter environment, please rerun this cell to show the HTML representation or trust the notebook. <br />On GitHub, the HTML representation is unable to render, please try loading this page with nbviewer.org.</b></div><div class=\"sk-container\" hidden><div class=\"sk-item\"><div class=\"sk-estimator sk-toggleable\"><input class=\"sk-toggleable__control sk-hidden--visually\" id=\"sk-estimator-id-4\" type=\"checkbox\" checked><label for=\"sk-estimator-id-4\" class=\"sk-toggleable__label sk-toggleable__label-arrow\">RandomForestClassifier</label><div class=\"sk-toggleable__content\"><pre>RandomForestClassifier(random_state=42)</pre></div></div></div></div></div>"
      ],
      "text/plain": [
       "RandomForestClassifier(random_state=42)"
      ]
     },
     "execution_count": 30,
     "metadata": {},
     "output_type": "execute_result"
    }
   ],
   "source": [
    "forest_cls = RandomForestClassifier(random_state=42)\n",
    "forest_cls.fit(x_train_prepared_tree, y_train)"
   ]
  },
  {
   "cell_type": "code",
   "execution_count": 61,
   "id": "hnZePb3SHlKL",
   "metadata": {
    "colab": {
     "base_uri": "https://localhost:8080/"
    },
    "executionInfo": {
     "elapsed": 240217,
     "status": "ok",
     "timestamp": 1756241336048,
     "user": {
      "displayName": "raouf lounis",
      "userId": "11354439901126171963"
     },
     "user_tz": -120
    },
    "id": "hnZePb3SHlKL",
    "outputId": "b1e495b0-da94-4379-fe84-4c59a8b30538"
   },
   "outputs": [
    {
     "name": "stdout",
     "output_type": "stream",
     "text": [
      "Accuracy  : 0.9309 (+/- 0.0011)\n",
      "F1        : 0.6891 (+/- 0.0048)\n",
      "Precision : 0.7524 (+/- 0.0063)\n",
      "Recall    : 0.6356 (+/- 0.0051)\n",
      "Roc_auc   : 0.9598 (+/- 0.0013)\n"
     ]
    }
   ],
   "source": [
    "cross_validation_score(forest_cls, x_train_prepared_tree)"
   ]
  },
  {
   "cell_type": "code",
   "execution_count": 62,
   "id": "70589139-aeef-413b-aa09-55e0854ac716",
   "metadata": {
    "colab": {
     "base_uri": "https://localhost:8080/",
     "height": 253
    },
    "executionInfo": {
     "elapsed": 5530,
     "status": "ok",
     "timestamp": 1756241358219,
     "user": {
      "displayName": "raouf lounis",
      "userId": "11354439901126171963"
     },
     "user_tz": -120
    },
    "id": "70589139-aeef-413b-aa09-55e0854ac716",
    "outputId": "82a01a2c-7a81-40da-8459-a1caef0959c1"
   },
   "outputs": [
    {
     "data": {
      "text/html": [
       "<style>#sk-container-id-9 {color: black;}#sk-container-id-9 pre{padding: 0;}#sk-container-id-9 div.sk-toggleable {background-color: white;}#sk-container-id-9 label.sk-toggleable__label {cursor: pointer;display: block;width: 100%;margin-bottom: 0;padding: 0.3em;box-sizing: border-box;text-align: center;}#sk-container-id-9 label.sk-toggleable__label-arrow:before {content: \"▸\";float: left;margin-right: 0.25em;color: #696969;}#sk-container-id-9 label.sk-toggleable__label-arrow:hover:before {color: black;}#sk-container-id-9 div.sk-estimator:hover label.sk-toggleable__label-arrow:before {color: black;}#sk-container-id-9 div.sk-toggleable__content {max-height: 0;max-width: 0;overflow: hidden;text-align: left;background-color: #f0f8ff;}#sk-container-id-9 div.sk-toggleable__content pre {margin: 0.2em;color: black;border-radius: 0.25em;background-color: #f0f8ff;}#sk-container-id-9 input.sk-toggleable__control:checked~div.sk-toggleable__content {max-height: 200px;max-width: 100%;overflow: auto;}#sk-container-id-9 input.sk-toggleable__control:checked~label.sk-toggleable__label-arrow:before {content: \"▾\";}#sk-container-id-9 div.sk-estimator input.sk-toggleable__control:checked~label.sk-toggleable__label {background-color: #d4ebff;}#sk-container-id-9 div.sk-label input.sk-toggleable__control:checked~label.sk-toggleable__label {background-color: #d4ebff;}#sk-container-id-9 input.sk-hidden--visually {border: 0;clip: rect(1px 1px 1px 1px);clip: rect(1px, 1px, 1px, 1px);height: 1px;margin: -1px;overflow: hidden;padding: 0;position: absolute;width: 1px;}#sk-container-id-9 div.sk-estimator {font-family: monospace;background-color: #f0f8ff;border: 1px dotted black;border-radius: 0.25em;box-sizing: border-box;margin-bottom: 0.5em;}#sk-container-id-9 div.sk-estimator:hover {background-color: #d4ebff;}#sk-container-id-9 div.sk-parallel-item::after {content: \"\";width: 100%;border-bottom: 1px solid gray;flex-grow: 1;}#sk-container-id-9 div.sk-label:hover label.sk-toggleable__label {background-color: #d4ebff;}#sk-container-id-9 div.sk-serial::before {content: \"\";position: absolute;border-left: 1px solid gray;box-sizing: border-box;top: 0;bottom: 0;left: 50%;z-index: 0;}#sk-container-id-9 div.sk-serial {display: flex;flex-direction: column;align-items: center;background-color: white;padding-right: 0.2em;padding-left: 0.2em;position: relative;}#sk-container-id-9 div.sk-item {position: relative;z-index: 1;}#sk-container-id-9 div.sk-parallel {display: flex;align-items: stretch;justify-content: center;background-color: white;position: relative;}#sk-container-id-9 div.sk-item::before, #sk-container-id-9 div.sk-parallel-item::before {content: \"\";position: absolute;border-left: 1px solid gray;box-sizing: border-box;top: 0;bottom: 0;left: 50%;z-index: -1;}#sk-container-id-9 div.sk-parallel-item {display: flex;flex-direction: column;z-index: 1;position: relative;background-color: white;}#sk-container-id-9 div.sk-parallel-item:first-child::after {align-self: flex-end;width: 50%;}#sk-container-id-9 div.sk-parallel-item:last-child::after {align-self: flex-start;width: 50%;}#sk-container-id-9 div.sk-parallel-item:only-child::after {width: 0;}#sk-container-id-9 div.sk-dashed-wrapped {border: 1px dashed gray;margin: 0 0.4em 0.5em 0.4em;box-sizing: border-box;padding-bottom: 0.4em;background-color: white;}#sk-container-id-9 div.sk-label label {font-family: monospace;font-weight: bold;display: inline-block;line-height: 1.2em;}#sk-container-id-9 div.sk-label-container {text-align: center;}#sk-container-id-9 div.sk-container {/* jupyter's `normalize.less` sets `[hidden] { display: none; }` but bootstrap.min.css set `[hidden] { display: none !important; }` so we also need the `!important` here to be able to override the default hidden behavior on the sphinx rendered scikit-learn.org. See: https://github.com/scikit-learn/scikit-learn/issues/21755 */display: inline-block !important;position: relative;}#sk-container-id-9 div.sk-text-repr-fallback {display: none;}</style><div id=\"sk-container-id-9\" class=\"sk-top-container\"><div class=\"sk-text-repr-fallback\"><pre>XGBClassifier(base_score=None, booster=None, callbacks=None,\n",
       "              colsample_bylevel=None, colsample_bynode=None,\n",
       "              colsample_bytree=None, device=None, early_stopping_rounds=None,\n",
       "              enable_categorical=False, eval_metric=None, feature_types=None,\n",
       "              gamma=None, grow_policy=None, importance_type=None,\n",
       "              interaction_constraints=None, learning_rate=None, max_bin=None,\n",
       "              max_cat_threshold=None, max_cat_to_onehot=None,\n",
       "              max_delta_step=None, max_depth=None, max_leaves=None,\n",
       "              min_child_weight=None, missing=nan, monotone_constraints=None,\n",
       "              multi_strategy=None, n_estimators=None, n_jobs=None,\n",
       "              num_parallel_tree=None, random_state=42, ...)</pre><b>In a Jupyter environment, please rerun this cell to show the HTML representation or trust the notebook. <br />On GitHub, the HTML representation is unable to render, please try loading this page with nbviewer.org.</b></div><div class=\"sk-container\" hidden><div class=\"sk-item\"><div class=\"sk-estimator sk-toggleable\"><input class=\"sk-toggleable__control sk-hidden--visually\" id=\"sk-estimator-id-9\" type=\"checkbox\" checked><label for=\"sk-estimator-id-9\" class=\"sk-toggleable__label sk-toggleable__label-arrow\">XGBClassifier</label><div class=\"sk-toggleable__content\"><pre>XGBClassifier(base_score=None, booster=None, callbacks=None,\n",
       "              colsample_bylevel=None, colsample_bynode=None,\n",
       "              colsample_bytree=None, device=None, early_stopping_rounds=None,\n",
       "              enable_categorical=False, eval_metric=None, feature_types=None,\n",
       "              gamma=None, grow_policy=None, importance_type=None,\n",
       "              interaction_constraints=None, learning_rate=None, max_bin=None,\n",
       "              max_cat_threshold=None, max_cat_to_onehot=None,\n",
       "              max_delta_step=None, max_depth=None, max_leaves=None,\n",
       "              min_child_weight=None, missing=nan, monotone_constraints=None,\n",
       "              multi_strategy=None, n_estimators=None, n_jobs=None,\n",
       "              num_parallel_tree=None, random_state=42, ...)</pre></div></div></div></div></div>"
      ],
      "text/plain": [
       "XGBClassifier(base_score=None, booster=None, callbacks=None,\n",
       "              colsample_bylevel=None, colsample_bynode=None,\n",
       "              colsample_bytree=None, device=None, early_stopping_rounds=None,\n",
       "              enable_categorical=False, eval_metric=None, feature_types=None,\n",
       "              gamma=None, grow_policy=None, importance_type=None,\n",
       "              interaction_constraints=None, learning_rate=None, max_bin=None,\n",
       "              max_cat_threshold=None, max_cat_to_onehot=None,\n",
       "              max_delta_step=None, max_depth=None, max_leaves=None,\n",
       "              min_child_weight=None, missing=nan, monotone_constraints=None,\n",
       "              multi_strategy=None, n_estimators=None, n_jobs=None,\n",
       "              num_parallel_tree=None, random_state=42, ...)"
      ]
     },
     "execution_count": 62,
     "metadata": {},
     "output_type": "execute_result"
    }
   ],
   "source": [
    "xgb_clf = XGBClassifier(\n",
    "    tree_method=\"hist\",\n",
    "    random_state=42\n",
    ")\n",
    "\n",
    "xgb_clf.fit(x_train_prepared_tree, y_train)"
   ]
  },
  {
   "cell_type": "code",
   "execution_count": 63,
   "id": "Imsq7OP7cWIS",
   "metadata": {
    "colab": {
     "base_uri": "https://localhost:8080/"
    },
    "executionInfo": {
     "elapsed": 8145,
     "status": "ok",
     "timestamp": 1756241368862,
     "user": {
      "displayName": "raouf lounis",
      "userId": "11354439901126171963"
     },
     "user_tz": -120
    },
    "id": "Imsq7OP7cWIS",
    "outputId": "571778a7-bfcf-4865-c992-5fbd33c37230"
   },
   "outputs": [
    {
     "name": "stdout",
     "output_type": "stream",
     "text": [
      "Accuracy  : 0.9343 (+/- 0.0014)\n",
      "F1        : 0.7088 (+/- 0.0076)\n",
      "Precision : 0.7599 (+/- 0.0041)\n",
      "Recall    : 0.6641 (+/- 0.0104)\n",
      "Roc_auc   : 0.9658 (+/- 0.0009)\n"
     ]
    }
   ],
   "source": [
    "cross_validation_score(xgb_clf, x_train_prepared_tree)"
   ]
  },
  {
   "cell_type": "markdown",
   "id": "e289efbc-e834-42e9-b1c6-c73e9d182c30",
   "metadata": {},
   "source": [
    "# fine tune best mode"
   ]
  },
  {
   "cell_type": "code",
   "execution_count": 64,
   "id": "HcpfVKvJwISY",
   "metadata": {
    "colab": {
     "base_uri": "https://localhost:8080/",
     "height": 321
    },
    "executionInfo": {
     "elapsed": 783534,
     "status": "error",
     "timestamp": 1756242185418,
     "user": {
      "displayName": "raouf lounis",
      "userId": "11354439901126171963"
     },
     "user_tz": -120
    },
    "id": "HcpfVKvJwISY",
    "outputId": "3c4891af-bf89-4a58-895b-5d1a47b82bfa"
   },
   "outputs": [
    {
     "data": {
      "text/html": [
       "<style>#sk-container-id-10 {color: black;}#sk-container-id-10 pre{padding: 0;}#sk-container-id-10 div.sk-toggleable {background-color: white;}#sk-container-id-10 label.sk-toggleable__label {cursor: pointer;display: block;width: 100%;margin-bottom: 0;padding: 0.3em;box-sizing: border-box;text-align: center;}#sk-container-id-10 label.sk-toggleable__label-arrow:before {content: \"▸\";float: left;margin-right: 0.25em;color: #696969;}#sk-container-id-10 label.sk-toggleable__label-arrow:hover:before {color: black;}#sk-container-id-10 div.sk-estimator:hover label.sk-toggleable__label-arrow:before {color: black;}#sk-container-id-10 div.sk-toggleable__content {max-height: 0;max-width: 0;overflow: hidden;text-align: left;background-color: #f0f8ff;}#sk-container-id-10 div.sk-toggleable__content pre {margin: 0.2em;color: black;border-radius: 0.25em;background-color: #f0f8ff;}#sk-container-id-10 input.sk-toggleable__control:checked~div.sk-toggleable__content {max-height: 200px;max-width: 100%;overflow: auto;}#sk-container-id-10 input.sk-toggleable__control:checked~label.sk-toggleable__label-arrow:before {content: \"▾\";}#sk-container-id-10 div.sk-estimator input.sk-toggleable__control:checked~label.sk-toggleable__label {background-color: #d4ebff;}#sk-container-id-10 div.sk-label input.sk-toggleable__control:checked~label.sk-toggleable__label {background-color: #d4ebff;}#sk-container-id-10 input.sk-hidden--visually {border: 0;clip: rect(1px 1px 1px 1px);clip: rect(1px, 1px, 1px, 1px);height: 1px;margin: -1px;overflow: hidden;padding: 0;position: absolute;width: 1px;}#sk-container-id-10 div.sk-estimator {font-family: monospace;background-color: #f0f8ff;border: 1px dotted black;border-radius: 0.25em;box-sizing: border-box;margin-bottom: 0.5em;}#sk-container-id-10 div.sk-estimator:hover {background-color: #d4ebff;}#sk-container-id-10 div.sk-parallel-item::after {content: \"\";width: 100%;border-bottom: 1px solid gray;flex-grow: 1;}#sk-container-id-10 div.sk-label:hover label.sk-toggleable__label {background-color: #d4ebff;}#sk-container-id-10 div.sk-serial::before {content: \"\";position: absolute;border-left: 1px solid gray;box-sizing: border-box;top: 0;bottom: 0;left: 50%;z-index: 0;}#sk-container-id-10 div.sk-serial {display: flex;flex-direction: column;align-items: center;background-color: white;padding-right: 0.2em;padding-left: 0.2em;position: relative;}#sk-container-id-10 div.sk-item {position: relative;z-index: 1;}#sk-container-id-10 div.sk-parallel {display: flex;align-items: stretch;justify-content: center;background-color: white;position: relative;}#sk-container-id-10 div.sk-item::before, #sk-container-id-10 div.sk-parallel-item::before {content: \"\";position: absolute;border-left: 1px solid gray;box-sizing: border-box;top: 0;bottom: 0;left: 50%;z-index: -1;}#sk-container-id-10 div.sk-parallel-item {display: flex;flex-direction: column;z-index: 1;position: relative;background-color: white;}#sk-container-id-10 div.sk-parallel-item:first-child::after {align-self: flex-end;width: 50%;}#sk-container-id-10 div.sk-parallel-item:last-child::after {align-self: flex-start;width: 50%;}#sk-container-id-10 div.sk-parallel-item:only-child::after {width: 0;}#sk-container-id-10 div.sk-dashed-wrapped {border: 1px dashed gray;margin: 0 0.4em 0.5em 0.4em;box-sizing: border-box;padding-bottom: 0.4em;background-color: white;}#sk-container-id-10 div.sk-label label {font-family: monospace;font-weight: bold;display: inline-block;line-height: 1.2em;}#sk-container-id-10 div.sk-label-container {text-align: center;}#sk-container-id-10 div.sk-container {/* jupyter's `normalize.less` sets `[hidden] { display: none; }` but bootstrap.min.css set `[hidden] { display: none !important; }` so we also need the `!important` here to be able to override the default hidden behavior on the sphinx rendered scikit-learn.org. See: https://github.com/scikit-learn/scikit-learn/issues/21755 */display: inline-block !important;position: relative;}#sk-container-id-10 div.sk-text-repr-fallback {display: none;}</style><div id=\"sk-container-id-10\" class=\"sk-top-container\"><div class=\"sk-text-repr-fallback\"><pre>RandomizedSearchCV(cv=5,\n",
       "                   estimator=XGBClassifier(base_score=None, booster=None,\n",
       "                                           callbacks=None,\n",
       "                                           colsample_bylevel=None,\n",
       "                                           colsample_bynode=None,\n",
       "                                           colsample_bytree=None, device=None,\n",
       "                                           early_stopping_rounds=None,\n",
       "                                           enable_categorical=False,\n",
       "                                           eval_metric=None, feature_types=None,\n",
       "                                           gamma=None, grow_policy=None,\n",
       "                                           importance_type=None,\n",
       "                                           interaction_constraints=None,\n",
       "                                           learning_rate...\n",
       "                                           multi_strategy=None,\n",
       "                                           n_estimators=None, n_jobs=None,\n",
       "                                           num_parallel_tree=None,\n",
       "                                           random_state=42, ...),\n",
       "                   n_iter=30, n_jobs=-1,\n",
       "                   param_distributions={&#x27;colsample_bytree&#x27;: [0.6, 0.8, 1.0],\n",
       "                                        &#x27;gamma&#x27;: [0, 0.1, 0.5, 1],\n",
       "                                        &#x27;learning_rate&#x27;: [0.01, 0.05, 0.1, 0.2],\n",
       "                                        &#x27;max_depth&#x27;: [3, 5, 7, 10],\n",
       "                                        &#x27;min_child_weight&#x27;: [1, 3, 5, 7],\n",
       "                                        &#x27;n_estimators&#x27;: [200, 500, 800],\n",
       "                                        &#x27;subsample&#x27;: [0.6, 0.8, 1.0]},\n",
       "                   random_state=42)</pre><b>In a Jupyter environment, please rerun this cell to show the HTML representation or trust the notebook. <br />On GitHub, the HTML representation is unable to render, please try loading this page with nbviewer.org.</b></div><div class=\"sk-container\" hidden><div class=\"sk-item sk-dashed-wrapped\"><div class=\"sk-label-container\"><div class=\"sk-label sk-toggleable\"><input class=\"sk-toggleable__control sk-hidden--visually\" id=\"sk-estimator-id-10\" type=\"checkbox\" ><label for=\"sk-estimator-id-10\" class=\"sk-toggleable__label sk-toggleable__label-arrow\">RandomizedSearchCV</label><div class=\"sk-toggleable__content\"><pre>RandomizedSearchCV(cv=5,\n",
       "                   estimator=XGBClassifier(base_score=None, booster=None,\n",
       "                                           callbacks=None,\n",
       "                                           colsample_bylevel=None,\n",
       "                                           colsample_bynode=None,\n",
       "                                           colsample_bytree=None, device=None,\n",
       "                                           early_stopping_rounds=None,\n",
       "                                           enable_categorical=False,\n",
       "                                           eval_metric=None, feature_types=None,\n",
       "                                           gamma=None, grow_policy=None,\n",
       "                                           importance_type=None,\n",
       "                                           interaction_constraints=None,\n",
       "                                           learning_rate...\n",
       "                                           multi_strategy=None,\n",
       "                                           n_estimators=None, n_jobs=None,\n",
       "                                           num_parallel_tree=None,\n",
       "                                           random_state=42, ...),\n",
       "                   n_iter=30, n_jobs=-1,\n",
       "                   param_distributions={&#x27;colsample_bytree&#x27;: [0.6, 0.8, 1.0],\n",
       "                                        &#x27;gamma&#x27;: [0, 0.1, 0.5, 1],\n",
       "                                        &#x27;learning_rate&#x27;: [0.01, 0.05, 0.1, 0.2],\n",
       "                                        &#x27;max_depth&#x27;: [3, 5, 7, 10],\n",
       "                                        &#x27;min_child_weight&#x27;: [1, 3, 5, 7],\n",
       "                                        &#x27;n_estimators&#x27;: [200, 500, 800],\n",
       "                                        &#x27;subsample&#x27;: [0.6, 0.8, 1.0]},\n",
       "                   random_state=42)</pre></div></div></div><div class=\"sk-parallel\"><div class=\"sk-parallel-item\"><div class=\"sk-item\"><div class=\"sk-label-container\"><div class=\"sk-label sk-toggleable\"><input class=\"sk-toggleable__control sk-hidden--visually\" id=\"sk-estimator-id-11\" type=\"checkbox\" ><label for=\"sk-estimator-id-11\" class=\"sk-toggleable__label sk-toggleable__label-arrow\">estimator: XGBClassifier</label><div class=\"sk-toggleable__content\"><pre>XGBClassifier(base_score=None, booster=None, callbacks=None,\n",
       "              colsample_bylevel=None, colsample_bynode=None,\n",
       "              colsample_bytree=None, device=None, early_stopping_rounds=None,\n",
       "              enable_categorical=False, eval_metric=None, feature_types=None,\n",
       "              gamma=None, grow_policy=None, importance_type=None,\n",
       "              interaction_constraints=None, learning_rate=None, max_bin=None,\n",
       "              max_cat_threshold=None, max_cat_to_onehot=None,\n",
       "              max_delta_step=None, max_depth=None, max_leaves=None,\n",
       "              min_child_weight=None, missing=nan, monotone_constraints=None,\n",
       "              multi_strategy=None, n_estimators=None, n_jobs=None,\n",
       "              num_parallel_tree=None, random_state=42, ...)</pre></div></div></div><div class=\"sk-serial\"><div class=\"sk-item\"><div class=\"sk-estimator sk-toggleable\"><input class=\"sk-toggleable__control sk-hidden--visually\" id=\"sk-estimator-id-12\" type=\"checkbox\" ><label for=\"sk-estimator-id-12\" class=\"sk-toggleable__label sk-toggleable__label-arrow\">XGBClassifier</label><div class=\"sk-toggleable__content\"><pre>XGBClassifier(base_score=None, booster=None, callbacks=None,\n",
       "              colsample_bylevel=None, colsample_bynode=None,\n",
       "              colsample_bytree=None, device=None, early_stopping_rounds=None,\n",
       "              enable_categorical=False, eval_metric=None, feature_types=None,\n",
       "              gamma=None, grow_policy=None, importance_type=None,\n",
       "              interaction_constraints=None, learning_rate=None, max_bin=None,\n",
       "              max_cat_threshold=None, max_cat_to_onehot=None,\n",
       "              max_delta_step=None, max_depth=None, max_leaves=None,\n",
       "              min_child_weight=None, missing=nan, monotone_constraints=None,\n",
       "              multi_strategy=None, n_estimators=None, n_jobs=None,\n",
       "              num_parallel_tree=None, random_state=42, ...)</pre></div></div></div></div></div></div></div></div></div></div>"
      ],
      "text/plain": [
       "RandomizedSearchCV(cv=5,\n",
       "                   estimator=XGBClassifier(base_score=None, booster=None,\n",
       "                                           callbacks=None,\n",
       "                                           colsample_bylevel=None,\n",
       "                                           colsample_bynode=None,\n",
       "                                           colsample_bytree=None, device=None,\n",
       "                                           early_stopping_rounds=None,\n",
       "                                           enable_categorical=False,\n",
       "                                           eval_metric=None, feature_types=None,\n",
       "                                           gamma=None, grow_policy=None,\n",
       "                                           importance_type=None,\n",
       "                                           interaction_constraints=None,\n",
       "                                           learning_rate...\n",
       "                                           multi_strategy=None,\n",
       "                                           n_estimators=None, n_jobs=None,\n",
       "                                           num_parallel_tree=None,\n",
       "                                           random_state=42, ...),\n",
       "                   n_iter=30, n_jobs=-1,\n",
       "                   param_distributions={'colsample_bytree': [0.6, 0.8, 1.0],\n",
       "                                        'gamma': [0, 0.1, 0.5, 1],\n",
       "                                        'learning_rate': [0.01, 0.05, 0.1, 0.2],\n",
       "                                        'max_depth': [3, 5, 7, 10],\n",
       "                                        'min_child_weight': [1, 3, 5, 7],\n",
       "                                        'n_estimators': [200, 500, 800],\n",
       "                                        'subsample': [0.6, 0.8, 1.0]},\n",
       "                   random_state=42)"
      ]
     },
     "execution_count": 64,
     "metadata": {},
     "output_type": "execute_result"
    }
   ],
   "source": [
    "#fine tune xgboost since it has the best scores\n",
    "param_dist = {\n",
    "    \"max_depth\": [3, 5, 7, 10],\n",
    "    \"min_child_weight\": [1, 3, 5, 7],\n",
    "    \"gamma\": [0, 0.1, 0.5, 1],\n",
    "    \"subsample\": [0.6, 0.8, 1.0],\n",
    "    \"colsample_bytree\": [0.6, 0.8, 1.0],\n",
    "    \"learning_rate\": [0.01, 0.05, 0.1, 0.2],\n",
    "    \"n_estimators\": [200, 500, 800]\n",
    "}\n",
    "\n",
    "random_search = RandomizedSearchCV(\n",
    "    xgb_clf,\n",
    "    param_distributions=param_dist,\n",
    "    n_iter=30,\n",
    "    cv=5,\n",
    "    random_state=42,\n",
    "    n_jobs=-1\n",
    ")\n",
    "random_search.fit(x_train_prepared_tree, y_train)"
   ]
  },
  {
   "cell_type": "code",
   "execution_count": 65,
   "id": "f6rhffM45_-7",
   "metadata": {
    "colab": {
     "base_uri": "https://localhost:8080/"
    },
    "executionInfo": {
     "elapsed": 28249,
     "status": "ok",
     "timestamp": 1756238479010,
     "user": {
      "displayName": "raouf lounis",
      "userId": "11354439901126171963"
     },
     "user_tz": -120
    },
    "id": "f6rhffM45_-7",
    "outputId": "1e441eda-bc87-4e2e-f3de-0ded742855c6"
   },
   "outputs": [],
   "source": [
    "best_model = random_search.best_estimator_"
   ]
  },
  {
   "cell_type": "code",
   "execution_count": 66,
   "id": "3tYBkCrw-AJd",
   "metadata": {
    "id": "3tYBkCrw-AJd"
   },
   "outputs": [],
   "source": [
    "#choose best threshold for fine tuned xgboost\n",
    "result = cv_best_threshold(best_model, x_train_prepared_tree, y_train)"
   ]
  },
  {
   "cell_type": "code",
   "execution_count": 67,
   "id": "VA2hA988-TcV",
   "metadata": {
    "colab": {
     "base_uri": "https://localhost:8080/"
    },
    "executionInfo": {
     "elapsed": 115,
     "status": "ok",
     "timestamp": 1756238601138,
     "user": {
      "displayName": "raouf lounis",
      "userId": "11354439901126171963"
     },
     "user_tz": -120
    },
    "id": "VA2hA988-TcV",
    "outputId": "9b902057-48f4-4786-b735-f6af4b13ec52"
   },
   "outputs": [
    {
     "data": {
      "text/plain": [
       "{'threshold': 0.3449169,\n",
       " 'precision': 0.692088356312712,\n",
       " 'recall': 0.7958302782120277,\n",
       " 'f1': 0.7403427262372829}"
      ]
     },
     "execution_count": 67,
     "metadata": {},
     "output_type": "execute_result"
    }
   ],
   "source": [
    "result"
   ]
  },
  {
   "cell_type": "markdown",
   "id": "0d5158a5-7bc4-45eb-bc1b-258c20c382de",
   "metadata": {},
   "source": [
    "# evaluate in test set"
   ]
  },
  {
   "cell_type": "code",
   "execution_count": 68,
   "id": "pSVYNR4A-ljU",
   "metadata": {
    "id": "pSVYNR4A-ljU"
   },
   "outputs": [],
   "source": [
    "#choose fine tuned xgboost classifier as final model\n",
    "choosen_model = Pipeline([\n",
    "    ('stage1', stage1_pipeline),\n",
    "    ('final_pipleine', preprocess_transform_tree),\n",
    "    ('model', best_model)\n",
    "])"
   ]
  },
  {
   "cell_type": "code",
   "execution_count": 70,
   "id": "91dafb9c-def6-413c-8ed4-8f0eec1b3a31",
   "metadata": {},
   "outputs": [
    {
     "name": "stdout",
     "output_type": "stream",
     "text": [
      "Accuracy : 0.9367466666666666\n",
      "Precision: 0.7707311013106404\n",
      "Recall   : 0.6815709969788519\n",
      "F1       : 0.7234141791044776\n"
     ]
    }
   ],
   "source": [
    "#evalute on test set(without choosen threshold)\n",
    "y_pred = choosen_model.predict(x_test)\n",
    "y_true = y_test \n",
    "\n",
    "print(\"Accuracy :\", accuracy_score(y_true, y_pred))\n",
    "print(\"Precision:\", precision_score(y_true, y_pred))\n",
    "print(\"Recall   :\", recall_score(y_true, y_pred))\n",
    "print(\"F1       :\", f1_score(y_true, y_pred))"
   ]
  },
  {
   "cell_type": "code",
   "execution_count": 71,
   "id": "b211691c-4591-4e9c-94aa-1347a517b774",
   "metadata": {},
   "outputs": [],
   "source": [
    "#evalute on test set(withchoosen threshold)\n",
    "y_scores = choosen_model.predict_proba(x_test)[:, 1] \n",
    "y_predict_change = (y_scores > result[\"threshold\"])"
   ]
  },
  {
   "cell_type": "code",
   "execution_count": 72,
   "id": "46b33fa0-ecbd-41cb-b9df-f8dfdcaf94f2",
   "metadata": {},
   "outputs": [
    {
     "name": "stdout",
     "output_type": "stream",
     "text": [
      "Accuracy : 0.9326733333333334\n",
      "Precision: 0.6943325661680092\n",
      "Recall   : 0.7954408129634716\n",
      "F1       : 0.7414556718978008\n"
     ]
    }
   ],
   "source": [
    "print(\"Accuracy :\", accuracy_score(y_true, y_predict_change ))\n",
    "print(\"Precision:\", precision_score(y_true, y_predict_change ))\n",
    "print(\"Recall   :\", recall_score(y_true, y_predict_change ))\n",
    "print(\"F1       :\", f1_score(y_true, y_predict_change ))"
   ]
  },
  {
   "cell_type": "code",
   "execution_count": 73,
   "id": "95eb78eb-dc3c-4cfb-8cdc-940de901348b",
   "metadata": {},
   "outputs": [],
   "source": [
    "precisions, recalls, thresholds = precision_recall_curve(y_test, y_scores)"
   ]
  },
  {
   "cell_type": "code",
   "execution_count": 74,
   "id": "bc93abc9-c332-4781-bec7-1ac66eb65550",
   "metadata": {},
   "outputs": [
    {
     "data": {
      "image/png": "[encoded data removed]",
      "text/plain": [
       "<Figure size 640x480 with 1 Axes>"
      ]
     },
     "metadata": {},
     "output_type": "display_data"
    }
   ],
   "source": [
    "def plot_precision_recall_vs_threshold(precisions, recalls, thresholds):\n",
    " plt.plot(thresholds, precisions[:-1], \"b--\", label=\"Precision\")\n",
    " plt.plot(thresholds, recalls[:-1], \"g-\", label=\"Recall\")\n",
    " plt.title(\"Precision and recall versus the decision threshold\")\n",
    " plt.xlabel(\"Threshold\")\n",
    " plt.ylabel(\"precision/recall\")\n",
    " plt.legend()\n",
    " plt.grid(True)\n",
    "plot_precision_recall_vs_threshold(precisions, recalls, thresholds)\n",
    "plt.show()"
   ]
  },
  {
   "cell_type": "code",
   "execution_count": 75,
   "id": "1f6ad0ad-2fb0-43b6-8a66-1a00de0857db",
   "metadata": {},
   "outputs": [
    {
     "data": {
      "text/plain": [
       "0.9680535980080007"
      ]
     },
     "execution_count": 75,
     "metadata": {},
     "output_type": "execute_result"
    }
   ],
   "source": [
    "roc_auc = roc_auc_score(y_true, y_scores)\n",
    "roc_auc"
   ]
  },
  {
   "cell_type": "code",
   "execution_count": 76,
   "id": "ca4478cc-3e9b-49d0-8e39-0917ad4a1636",
   "metadata": {},
   "outputs": [
    {
     "data": {
      "image/png": "[encoded data removed]",
      "text/plain": [
       "<Figure size 800x600 with 1 Axes>"
      ]
     },
     "metadata": {},
     "output_type": "display_data"
    }
   ],
   "source": [
    "fpr, tpr, thresholds = roc_curve(y_test, y_scores)\n",
    "\n",
    "# Plot the ROC curve\n",
    "plt.figure(figsize=(8, 6))\n",
    "plt.plot(fpr, tpr, color='darkorange', lw=2, \n",
    "         label=f'ROC curve (AUC = {roc_auc:.2f})')\n",
    "plt.plot([0, 1], [0, 1], color='navy', lw=2, linestyle='--', label='Random guessing')\n",
    "plt.xlim([0.0, 1.0])\n",
    "plt.ylim([0.0, 1.05])\n",
    "plt.xlabel('False Positive Rate')\n",
    "plt.ylabel('True Positive Rate (Recall)')\n",
    "plt.title('Receiver Operating Characteristic (ROC) Curve')\n",
    "plt.legend(loc=\"lower right\")\n",
    "plt.show()"
   ]
  },
  {
   "cell_type": "code",
   "execution_count": 77,
   "id": "49e8fdcb-aa57-42c3-9b8c-e45f90067ffc",
   "metadata": {},
   "outputs": [
    {
     "name": "stdout",
     "output_type": "stream",
     "text": [
      "Model saved as banking_prediction.pkl\n"
     ]
    }
   ],
   "source": [
    "model_filename = 'banking_prediction.pkl'\n",
    "joblib.dump(choosen_model, model_filename)\n",
    "\n",
    "print(f\"Model saved as {model_filename}\")"
   ]
  },
  {
   "cell_type": "code",
   "execution_count": 78,
   "id": "7d412a79-b7af-46e8-9024-f1be4a46c5c2",
   "metadata": {},
   "outputs": [
    {
     "name": "stdout",
     "output_type": "stream",
     "text": [
      "Threshold and metadata saved as model_metadata.json\n"
     ]
    }
   ],
   "source": [
    "model_metadata = {\n",
    "    'optimal_threshold': float(result[\"threshold\"]),\n",
    "    'metrics_at_threshold': {\n",
    "        'precision': float(precision_score(y_true, y_predict_change)),\n",
    "        'recall': float(recall_score(y_true, y_predict_change)),\n",
    "        'f1_score': float(f1_score(y_true, y_predict_change)),\n",
    "    'dataset_info': 'banking prediction'\n",
    "}\n",
    "}\n",
    "\n",
    "\n",
    "metadata_filename = 'model_metadata.json'\n",
    "with open(metadata_filename, 'w') as f:\n",
    "    json.dump(model_metadata, f, indent=4)\n",
    "\n",
    "print(f\"Threshold and metadata saved as {metadata_filename}\")"
   ]
  },
  {
   "cell_type": "markdown",
   "id": "f99b1557-075d-458c-81aa-8b49bfd46ab2",
   "metadata": {},
   "source": [
    "# prepare competition file"
   ]
  },
  {
   "cell_type": "code",
   "execution_count": 80,
   "id": "Mki2AaTh-xK1",
   "metadata": {
    "id": "Mki2AaTh-xK1"
   },
   "outputs": [],
   "source": [
    "competition = pd.read_csv(\"playground-series-s5e8/test.csv\")"
   ]
  },
  {
   "cell_type": "code",
   "execution_count": 81,
   "id": "EmtIJnVn-4Fj",
   "metadata": {
    "colab": {
     "base_uri": "https://localhost:8080/",
     "height": 243
    },
    "executionInfo": {
     "elapsed": 127,
     "status": "ok",
     "timestamp": 1756238982066,
     "user": {
      "displayName": "raouf lounis",
      "userId": "11354439901126171963"
     },
     "user_tz": -120
    },
    "id": "EmtIJnVn-4Fj",
    "outputId": "243051e4-149c-4dea-8f79-4700d05538b2"
   },
   "outputs": [
    {
     "data": {
      "text/html": [
       "<div>\n",
       "<style scoped>\n",
       "    .dataframe tbody tr th:only-of-type {\n",
       "        vertical-align: middle;\n",
       "    }\n",
       "\n",
       "    .dataframe tbody tr th {\n",
       "        vertical-align: top;\n",
       "    }\n",
       "\n",
       "    .dataframe thead th {\n",
       "        text-align: right;\n",
       "    }\n",
       "</style>\n",
       "<table border=\"1\" class=\"dataframe\">\n",
       "  <thead>\n",
       "    <tr style=\"text-align: right;\">\n",
       "      <th></th>\n",
       "      <th>id</th>\n",
       "      <th>age</th>\n",
       "      <th>job</th>\n",
       "      <th>marital</th>\n",
       "      <th>education</th>\n",
       "      <th>default</th>\n",
       "      <th>balance</th>\n",
       "      <th>housing</th>\n",
       "      <th>loan</th>\n",
       "      <th>contact</th>\n",
       "      <th>day</th>\n",
       "      <th>month</th>\n",
       "      <th>duration</th>\n",
       "      <th>campaign</th>\n",
       "      <th>pdays</th>\n",
       "      <th>previous</th>\n",
       "      <th>poutcome</th>\n",
       "    </tr>\n",
       "  </thead>\n",
       "  <tbody>\n",
       "    <tr>\n",
       "      <th>0</th>\n",
       "      <td>750000</td>\n",
       "      <td>32</td>\n",
       "      <td>blue-collar</td>\n",
       "      <td>married</td>\n",
       "      <td>secondary</td>\n",
       "      <td>no</td>\n",
       "      <td>1397</td>\n",
       "      <td>yes</td>\n",
       "      <td>no</td>\n",
       "      <td>unknown</td>\n",
       "      <td>21</td>\n",
       "      <td>may</td>\n",
       "      <td>224</td>\n",
       "      <td>1</td>\n",
       "      <td>-1</td>\n",
       "      <td>0</td>\n",
       "      <td>unknown</td>\n",
       "    </tr>\n",
       "    <tr>\n",
       "      <th>1</th>\n",
       "      <td>750001</td>\n",
       "      <td>44</td>\n",
       "      <td>management</td>\n",
       "      <td>married</td>\n",
       "      <td>tertiary</td>\n",
       "      <td>no</td>\n",
       "      <td>23</td>\n",
       "      <td>yes</td>\n",
       "      <td>no</td>\n",
       "      <td>cellular</td>\n",
       "      <td>3</td>\n",
       "      <td>apr</td>\n",
       "      <td>586</td>\n",
       "      <td>2</td>\n",
       "      <td>-1</td>\n",
       "      <td>0</td>\n",
       "      <td>unknown</td>\n",
       "    </tr>\n",
       "    <tr>\n",
       "      <th>2</th>\n",
       "      <td>750002</td>\n",
       "      <td>36</td>\n",
       "      <td>self-employed</td>\n",
       "      <td>married</td>\n",
       "      <td>primary</td>\n",
       "      <td>no</td>\n",
       "      <td>46</td>\n",
       "      <td>yes</td>\n",
       "      <td>yes</td>\n",
       "      <td>cellular</td>\n",
       "      <td>13</td>\n",
       "      <td>may</td>\n",
       "      <td>111</td>\n",
       "      <td>2</td>\n",
       "      <td>-1</td>\n",
       "      <td>0</td>\n",
       "      <td>unknown</td>\n",
       "    </tr>\n",
       "    <tr>\n",
       "      <th>3</th>\n",
       "      <td>750003</td>\n",
       "      <td>58</td>\n",
       "      <td>blue-collar</td>\n",
       "      <td>married</td>\n",
       "      <td>secondary</td>\n",
       "      <td>no</td>\n",
       "      <td>-1380</td>\n",
       "      <td>yes</td>\n",
       "      <td>yes</td>\n",
       "      <td>unknown</td>\n",
       "      <td>29</td>\n",
       "      <td>may</td>\n",
       "      <td>125</td>\n",
       "      <td>1</td>\n",
       "      <td>-1</td>\n",
       "      <td>0</td>\n",
       "      <td>unknown</td>\n",
       "    </tr>\n",
       "    <tr>\n",
       "      <th>4</th>\n",
       "      <td>750004</td>\n",
       "      <td>28</td>\n",
       "      <td>technician</td>\n",
       "      <td>single</td>\n",
       "      <td>secondary</td>\n",
       "      <td>no</td>\n",
       "      <td>1950</td>\n",
       "      <td>yes</td>\n",
       "      <td>no</td>\n",
       "      <td>cellular</td>\n",
       "      <td>22</td>\n",
       "      <td>jul</td>\n",
       "      <td>181</td>\n",
       "      <td>1</td>\n",
       "      <td>-1</td>\n",
       "      <td>0</td>\n",
       "      <td>unknown</td>\n",
       "    </tr>\n",
       "  </tbody>\n",
       "</table>\n",
       "</div>"
      ],
      "text/plain": [
       "       id  age            job  marital  education default  balance housing  \\\n",
       "0  750000   32    blue-collar  married  secondary      no     1397     yes   \n",
       "1  750001   44     management  married   tertiary      no       23     yes   \n",
       "2  750002   36  self-employed  married    primary      no       46     yes   \n",
       "3  750003   58    blue-collar  married  secondary      no    -1380     yes   \n",
       "4  750004   28     technician   single  secondary      no     1950     yes   \n",
       "\n",
       "  loan   contact  day month  duration  campaign  pdays  previous poutcome  \n",
       "0   no   unknown   21   may       224         1     -1         0  unknown  \n",
       "1   no  cellular    3   apr       586         2     -1         0  unknown  \n",
       "2  yes  cellular   13   may       111         2     -1         0  unknown  \n",
       "3  yes   unknown   29   may       125         1     -1         0  unknown  \n",
       "4   no  cellular   22   jul       181         1     -1         0  unknown  "
      ]
     },
     "execution_count": 81,
     "metadata": {},
     "output_type": "execute_result"
    }
   ],
   "source": [
    "competition.head()"
   ]
  },
  {
   "cell_type": "code",
   "execution_count": 83,
   "id": "tyI64wsl_ES3",
   "metadata": {
    "colab": {
     "base_uri": "https://localhost:8080/"
    },
    "executionInfo": {
     "elapsed": 2549,
     "status": "ok",
     "timestamp": 1756238895710,
     "user": {
      "displayName": "raouf lounis",
      "userId": "11354439901126171963"
     },
     "user_tz": -120
    },
    "id": "tyI64wsl_ES3",
    "outputId": "9d35404f-7321-4e3a-f556-9858a3506ba1"
   },
   "outputs": [],
   "source": [
    "y_scores = choosen_model.predict_proba(competition)[:, 1]"
   ]
  },
  {
   "cell_type": "code",
   "execution_count": 84,
   "id": "-65yZuKN_qXl",
   "metadata": {
    "colab": {
     "base_uri": "https://localhost:8080/"
    },
    "executionInfo": {
     "elapsed": 73,
     "status": "ok",
     "timestamp": 1756238942060,
     "user": {
      "displayName": "raouf lounis",
      "userId": "11354439901126171963"
     },
     "user_tz": -120
    },
    "id": "-65yZuKN_qXl",
    "outputId": "d683dcf0-4e9b-491b-9261-9f1e682f12fc"
   },
   "outputs": [
    {
     "data": {
      "text/plain": [
       "array([1.4401547e-03, 7.2046176e-02, 1.5394490e-04, ..., 7.4736816e-01,\n",
       "       5.6107593e-04, 1.1822974e-01], dtype=float32)"
      ]
     },
     "execution_count": 84,
     "metadata": {},
     "output_type": "execute_result"
    }
   ],
   "source": [
    "y_scores"
   ]
  },
  {
   "cell_type": "code",
   "execution_count": 85,
   "id": "YniI0eSE_0LO",
   "metadata": {
    "id": "YniI0eSE_0LO"
   },
   "outputs": [],
   "source": [
    "submit = pd.read_csv(\"playground-series-s5e8/sample_submission.csv\")"
   ]
  },
  {
   "cell_type": "code",
   "execution_count": 86,
   "id": "8aDBljaSAYWE",
   "metadata": {
    "colab": {
     "base_uri": "https://localhost:8080/",
     "height": 206
    },
    "executionInfo": {
     "elapsed": 130,
     "status": "ok",
     "timestamp": 1756239094227,
     "user": {
      "displayName": "raouf lounis",
      "userId": "11354439901126171963"
     },
     "user_tz": -120
    },
    "id": "8aDBljaSAYWE",
    "outputId": "a20e97b9-9c0f-4c84-d643-22350751b2de"
   },
   "outputs": [
    {
     "data": {
      "text/html": [
       "<div>\n",
       "<style scoped>\n",
       "    .dataframe tbody tr th:only-of-type {\n",
       "        vertical-align: middle;\n",
       "    }\n",
       "\n",
       "    .dataframe tbody tr th {\n",
       "        vertical-align: top;\n",
       "    }\n",
       "\n",
       "    .dataframe thead th {\n",
       "        text-align: right;\n",
       "    }\n",
       "</style>\n",
       "<table border=\"1\" class=\"dataframe\">\n",
       "  <thead>\n",
       "    <tr style=\"text-align: right;\">\n",
       "      <th></th>\n",
       "      <th>id</th>\n",
       "      <th>y</th>\n",
       "    </tr>\n",
       "  </thead>\n",
       "  <tbody>\n",
       "    <tr>\n",
       "      <th>0</th>\n",
       "      <td>750000</td>\n",
       "      <td>0.5</td>\n",
       "    </tr>\n",
       "    <tr>\n",
       "      <th>1</th>\n",
       "      <td>750001</td>\n",
       "      <td>0.5</td>\n",
       "    </tr>\n",
       "    <tr>\n",
       "      <th>2</th>\n",
       "      <td>750002</td>\n",
       "      <td>0.5</td>\n",
       "    </tr>\n",
       "    <tr>\n",
       "      <th>3</th>\n",
       "      <td>750003</td>\n",
       "      <td>0.5</td>\n",
       "    </tr>\n",
       "    <tr>\n",
       "      <th>4</th>\n",
       "      <td>750004</td>\n",
       "      <td>0.5</td>\n",
       "    </tr>\n",
       "  </tbody>\n",
       "</table>\n",
       "</div>"
      ],
      "text/plain": [
       "       id    y\n",
       "0  750000  0.5\n",
       "1  750001  0.5\n",
       "2  750002  0.5\n",
       "3  750003  0.5\n",
       "4  750004  0.5"
      ]
     },
     "execution_count": 86,
     "metadata": {},
     "output_type": "execute_result"
    }
   ],
   "source": [
    "submit.head()"
   ]
  },
  {
   "cell_type": "code",
   "execution_count": 87,
   "id": "4n8xOWubAd7N",
   "metadata": {
    "id": "4n8xOWubAd7N"
   },
   "outputs": [],
   "source": [
    "submit[\"y\"] = y_scores"
   ]
  },
  {
   "cell_type": "code",
   "execution_count": 88,
   "id": "MZJB0JprAmh1",
   "metadata": {
    "id": "MZJB0JprAmh1"
   },
   "outputs": [
    {
     "data": {
      "text/html": [
       "<div>\n",
       "<style scoped>\n",
       "    .dataframe tbody tr th:only-of-type {\n",
       "        vertical-align: middle;\n",
       "    }\n",
       "\n",
       "    .dataframe tbody tr th {\n",
       "        vertical-align: top;\n",
       "    }\n",
       "\n",
       "    .dataframe thead th {\n",
       "        text-align: right;\n",
       "    }\n",
       "</style>\n",
       "<table border=\"1\" class=\"dataframe\">\n",
       "  <thead>\n",
       "    <tr style=\"text-align: right;\">\n",
       "      <th></th>\n",
       "      <th>id</th>\n",
       "      <th>y</th>\n",
       "    </tr>\n",
       "  </thead>\n",
       "  <tbody>\n",
       "    <tr>\n",
       "      <th>0</th>\n",
       "      <td>750000</td>\n",
       "      <td>0.001440</td>\n",
       "    </tr>\n",
       "    <tr>\n",
       "      <th>1</th>\n",
       "      <td>750001</td>\n",
       "      <td>0.072046</td>\n",
       "    </tr>\n",
       "    <tr>\n",
       "      <th>2</th>\n",
       "      <td>750002</td>\n",
       "      <td>0.000154</td>\n",
       "    </tr>\n",
       "    <tr>\n",
       "      <th>3</th>\n",
       "      <td>750003</td>\n",
       "      <td>0.000031</td>\n",
       "    </tr>\n",
       "    <tr>\n",
       "      <th>4</th>\n",
       "      <td>750004</td>\n",
       "      <td>0.017689</td>\n",
       "    </tr>\n",
       "  </tbody>\n",
       "</table>\n",
       "</div>"
      ],
      "text/plain": [
       "       id         y\n",
       "0  750000  0.001440\n",
       "1  750001  0.072046\n",
       "2  750002  0.000154\n",
       "3  750003  0.000031\n",
       "4  750004  0.017689"
      ]
     },
     "execution_count": 88,
     "metadata": {},
     "output_type": "execute_result"
    }
   ],
   "source": [
    "submit.head()"
   ]
  },
  {
   "cell_type": "code",
   "execution_count": 89,
   "id": "5b2ff0d0-b2d6-4429-8657-b0a2230ea884",
   "metadata": {},
   "outputs": [],
   "source": [
    "submit.to_csv(\"comptition.csv\")"
   ]
  },
  {
   "cell_type": "code",
   "execution_count": null,
   "id": "0957592b-df97-42ad-8f4d-94e693b6d7be",
   "metadata": {},
   "outputs": [],
   "source": []
  },
  {
   "cell_type": "code",
   "execution_count": null,
   "id": "ea3d732b-8feb-4961-a5a8-617297d8b1ab",
   "metadata": {},
   "outputs": [],
   "source": []
  }
 ],
 "metadata": {
  "accelerator": "GPU",
  "colab": {
   "gpuType": "T4",
   "history_visible": true,
   "provenance": []
  },
  "kaggle": {
   "accelerator": "none",
   "dataSources": [
    {
     "databundleVersionId": 12937777,
     "sourceId": 91719,
     "sourceType": "competition"
    }
   ],
   "dockerImageVersionId": 31089,
   "isGpuEnabled": false,
   "isInternetEnabled": true,
   "language": "python",
   "sourceType": "notebook"
  },
  "kernelspec": {
   "display_name": "Python 3 (ipykernel)",
   "language": "python",
   "name": "python3"
  },
  "language_info": {
   "codemirror_mode": {
    "name": "ipython",
    "version": 3
   },
   "file_extension": ".py",
   "mimetype": "text/x-python",
   "name": "python",
   "nbconvert_exporter": "python",
   "pygments_lexer": "ipython3",
   "version": "3.8.20"
  }
 },
 "nbformat": 4,
 "nbformat_minor": 5
}
